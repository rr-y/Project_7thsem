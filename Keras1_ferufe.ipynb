{
  "nbformat": 4,
  "nbformat_minor": 0,
  "metadata": {
    "colab": {
      "name": "Keras.ipynb",
      "version": "0.3.2",
      "provenance": [],
      "toc_visible": true,
      "include_colab_link": true
    },
    "kernelspec": {
      "name": "python3",
      "display_name": "Python 3"
    },
    "accelerator": "GPU"
  },
  "cells": [
    {
      "cell_type": "markdown",
      "metadata": {
        "id": "view-in-github",
        "colab_type": "text"
      },
      "source": [
        "<a href=\"https://colab.research.google.com/github/rr-y/Project_7thsem/blob/master/Keras1_ferufe.ipynb\" target=\"_parent\"><img src=\"https://colab.research.google.com/assets/colab-badge.svg\" alt=\"Open In Colab\"/></a>"
      ]
    },
    {
      "metadata": {
        "id": "I2JPMfJDJ_ei",
        "colab_type": "code",
        "colab": {}
      },
      "cell_type": "code",
      "source": [
        "#import cv2\n",
        "import time\n",
        "import sys\n",
        "import os\n",
        "#import glob\n",
        "from PIL import Image\n",
        "import tensorflow as tf\n",
        "import numpy as np\n",
        "import pandas as pd\n",
        "import matplotlib.pyplot as plt\n",
        "import seaborn as sns\n",
        "%matplotlib inline\n",
        "import graphviz\n",
        "import pydot\n"
      ],
      "execution_count": 0,
      "outputs": []
    },
    {
      "metadata": {
        "id": "TbBVlsIdRZVI",
        "colab_type": "code",
        "colab": {
          "base_uri": "https://localhost:8080/",
          "height": 34
        },
        "outputId": "ee0956d4-73dc-4250-cef7-74844e50fb20"
      },
      "cell_type": "code",
      "source": [
        "from keras.models import Sequential\n",
        "from keras.layers import Dense, Dropout, Flatten\n",
        "from keras.layers import Conv2D, MaxPooling2D"
      ],
      "execution_count": 2,
      "outputs": [
        {
          "output_type": "stream",
          "text": [
            "Using TensorFlow backend.\n"
          ],
          "name": "stderr"
        }
      ]
    },
    {
      "metadata": {
        "id": "uJjyvGqqx19P",
        "colab_type": "text"
      },
      "cell_type": "markdown",
      "source": [
        "## Connecting Google Drive to Google Colab"
      ]
    },
    {
      "metadata": {
        "id": "Xj4thirlR01i",
        "colab_type": "code",
        "colab": {
          "base_uri": "https://localhost:8080/",
          "height": 121
        },
        "outputId": "53946683-e7c8-4c35-e791-40723919614c"
      },
      "cell_type": "code",
      "source": [
        "# Load the Drive helper and mount\n",
        "from google.colab import drive\n",
        "\n",
        "# This will prompt for authorization.\n",
        "drive.mount('/content/drive')"
      ],
      "execution_count": 3,
      "outputs": [
        {
          "output_type": "stream",
          "text": [
            "Go to this URL in a browser: https://accounts.google.com/o/oauth2/auth?client_id=947318989803-6bn6qk8qdgf4n4g3pfee6491hc0brc4i.apps.googleusercontent.com&redirect_uri=urn%3Aietf%3Awg%3Aoauth%3A2.0%3Aoob&scope=email%20https%3A%2F%2Fwww.googleapis.com%2Fauth%2Fdocs.test%20https%3A%2F%2Fwww.googleapis.com%2Fauth%2Fdrive%20https%3A%2F%2Fwww.googleapis.com%2Fauth%2Fdrive.photos.readonly%20https%3A%2F%2Fwww.googleapis.com%2Fauth%2Fpeopleapi.readonly&response_type=code\n",
            "\n",
            "Enter your authorization code:\n",
            "··········\n",
            "Mounted at /content/drive\n"
          ],
          "name": "stdout"
        }
      ]
    },
    {
      "metadata": {
        "id": "8vr62wMtR-X0",
        "colab_type": "code",
        "colab": {}
      },
      "cell_type": "code",
      "source": [
        "df = pd.read_csv(\"fer2013.csv\")\n"
      ],
      "execution_count": 0,
      "outputs": []
    },
    {
      "metadata": {
        "id": "1atvCsiExiFb",
        "colab_type": "text"
      },
      "cell_type": "markdown",
      "source": [
        "## Data Reading and Preprocessing"
      ]
    },
    {
      "metadata": {
        "id": "96BIPtZjnSEA",
        "colab_type": "code",
        "colab": {
          "base_uri": "https://localhost:8080/",
          "height": 34
        },
        "outputId": "4c7fe3ed-0ba8-4200-e603-7ec0c1ad9316"
      },
      "cell_type": "code",
      "source": [
        "cd Colab\\ Notebooks"
      ],
      "execution_count": 7,
      "outputs": [
        {
          "output_type": "stream",
          "text": [
            "/content/drive/My Drive/Colab Notebooks\n"
          ],
          "name": "stdout"
        }
      ]
    },
    {
      "metadata": {
        "id": "oECHxocLSoyG",
        "colab_type": "code",
        "colab": {}
      },
      "cell_type": "code",
      "source": [
        "from sklearn.model_selection import train_test_split"
      ],
      "execution_count": 0,
      "outputs": []
    },
    {
      "metadata": {
        "id": "s6J7iV1fSQXl",
        "colab_type": "code",
        "colab": {}
      },
      "cell_type": "code",
      "source": [
        "X_train, X_test, y_train, y_test = train_test_split(df['pixels'], df['emotion'], test_size=0.3, random_state=30)"
      ],
      "execution_count": 0,
      "outputs": []
    },
    {
      "metadata": {
        "id": "FLQLzPBhSl5n",
        "colab_type": "code",
        "colab": {}
      },
      "cell_type": "code",
      "source": [
        "df_train=pd.DataFrame({'index':X_train.index, 'value':X_train.values})"
      ],
      "execution_count": 0,
      "outputs": []
    },
    {
      "metadata": {
        "id": "wBiq530NSylV",
        "colab_type": "code",
        "colab": {}
      },
      "cell_type": "code",
      "source": [
        "df_test=pd.DataFrame({'index':X_test.index, 'value':X_test.values})"
      ],
      "execution_count": 0,
      "outputs": []
    },
    {
      "metadata": {
        "id": "Xk1VpHQ-S16f",
        "colab_type": "code",
        "colab": {}
      },
      "cell_type": "code",
      "source": [
        "X_train=df_train['value']"
      ],
      "execution_count": 0,
      "outputs": []
    },
    {
      "metadata": {
        "id": "9zZoTwaJS4Tf",
        "colab_type": "code",
        "colab": {}
      },
      "cell_type": "code",
      "source": [
        "X_test=df_test['value']\n"
      ],
      "execution_count": 0,
      "outputs": []
    },
    {
      "metadata": {
        "id": "HfonrL9WS6Ke",
        "colab_type": "code",
        "colab": {}
      },
      "cell_type": "code",
      "source": [
        "images=[]\n",
        "\n",
        "for i in range(len(X_train)):\n",
        "    image_string = X_train[i]\n",
        "    image = [int(x) for x in image_string.split()]\n",
        "    image=np.array(image,dtype='float32')\n",
        "    image=image.reshape((48,48,1))\n",
        "    images.append(image)"
      ],
      "execution_count": 0,
      "outputs": []
    },
    {
      "metadata": {
        "id": "1NcRits4S8WE",
        "colab_type": "code",
        "colab": {
          "base_uri": "https://localhost:8080/",
          "height": 284
        },
        "outputId": "7e744e34-788b-40f0-9cc6-cbd523f19aa4"
      },
      "cell_type": "code",
      "source": [
        "plt.imshow(images[2].reshape((48,48)))\n"
      ],
      "execution_count": 16,
      "outputs": [
        {
          "output_type": "execute_result",
          "data": {
            "text/plain": [
              "<matplotlib.image.AxesImage at 0x7f47b389e748>"
            ]
          },
          "metadata": {
            "tags": []
          },
          "execution_count": 16
        },
        {
          "output_type": "display_data",
          "data": {
            "image/png": "[encoded data removed]",
            "text/plain": [
              "<matplotlib.figure.Figure at 0x7f47b3cdba20>"
            ]
          },
          "metadata": {
            "tags": []
          }
        }
      ]
    },
    {
      "metadata": {
        "id": "Xez6GDAITEBI",
        "colab_type": "code",
        "colab": {}
      },
      "cell_type": "code",
      "source": [
        "images_test=[]\n",
        "\n",
        "for i in range(len(X_test)):\n",
        "    image_string = X_test[i]\n",
        "    image = [int(x) for x in image_string.split()]\n",
        "    image=np.array(image,dtype='float32')\n",
        "    image=image.reshape((48,48,1))\n",
        "    images_test.append(image)"
      ],
      "execution_count": 0,
      "outputs": []
    },
    {
      "metadata": {
        "id": "080VhB7YTHxD",
        "colab_type": "code",
        "colab": {}
      },
      "cell_type": "code",
      "source": [
        "def convert_to_one_hot(Y, C):\n",
        "    Y = np.eye(C)[Y.reshape(-1)]\n",
        "    return Y"
      ],
      "execution_count": 0,
      "outputs": []
    },
    {
      "metadata": {
        "id": "x2wfk74MTJ4T",
        "colab_type": "code",
        "colab": {
          "base_uri": "https://localhost:8080/",
          "height": 70
        },
        "outputId": "5175d2b2-8669-4470-a690-f73003273fe7"
      },
      "cell_type": "code",
      "source": [
        "y_train_hot=convert_to_one_hot(y_train,7)"
      ],
      "execution_count": 19,
      "outputs": [
        {
          "output_type": "stream",
          "text": [
            "/usr/local/lib/python3.6/dist-packages/ipykernel_launcher.py:2: FutureWarning: reshape is deprecated and will raise in a subsequent release. Please use .values.reshape(...) instead\n",
            "  \n"
          ],
          "name": "stderr"
        }
      ]
    },
    {
      "metadata": {
        "id": "y6q9Hwu_TMTs",
        "colab_type": "code",
        "colab": {
          "base_uri": "https://localhost:8080/",
          "height": 70
        },
        "outputId": "871decfd-a4ec-456f-8775-80240714d2e9"
      },
      "cell_type": "code",
      "source": [
        "y_test_hot=convert_to_one_hot(y_test,7)"
      ],
      "execution_count": 20,
      "outputs": [
        {
          "output_type": "stream",
          "text": [
            "/usr/local/lib/python3.6/dist-packages/ipykernel_launcher.py:2: FutureWarning: reshape is deprecated and will raise in a subsequent release. Please use .values.reshape(...) instead\n",
            "  \n"
          ],
          "name": "stderr"
        }
      ]
    },
    {
      "metadata": {
        "id": "26p-9xFZTOhL",
        "colab_type": "code",
        "colab": {}
      },
      "cell_type": "code",
      "source": [
        "images_train=np.array(images)\n"
      ],
      "execution_count": 0,
      "outputs": []
    },
    {
      "metadata": {
        "id": "h1UZXDeMTV6q",
        "colab_type": "code",
        "colab": {}
      },
      "cell_type": "code",
      "source": [
        "images_test=np.array(images_test)\n"
      ],
      "execution_count": 0,
      "outputs": []
    },
    {
      "metadata": {
        "id": "1mTu6EBTTYsL",
        "colab_type": "code",
        "colab": {
          "base_uri": "https://localhost:8080/",
          "height": 34
        },
        "outputId": "1144b80b-2cd4-48c0-9b13-38b7afffc1a3"
      },
      "cell_type": "code",
      "source": [
        "images=np.array(images)\n",
        "images_test=np.array(images_test)\n",
        "images_test.reshape((10767,2304)).shape"
      ],
      "execution_count": 23,
      "outputs": [
        {
          "output_type": "execute_result",
          "data": {
            "text/plain": [
              "(10767, 2304)"
            ]
          },
          "metadata": {
            "tags": []
          },
          "execution_count": 23
        }
      ]
    },
    {
      "metadata": {
        "id": "2SxZO5ZvTbmy",
        "colab_type": "code",
        "colab": {
          "base_uri": "https://localhost:8080/",
          "height": 34
        },
        "outputId": "17872737-2a5a-480d-c869-2d6eb3ce3685"
      },
      "cell_type": "code",
      "source": [
        "images_test.shape"
      ],
      "execution_count": 24,
      "outputs": [
        {
          "output_type": "execute_result",
          "data": {
            "text/plain": [
              "(10767, 48, 48, 1)"
            ]
          },
          "metadata": {
            "tags": []
          },
          "execution_count": 24
        }
      ]
    },
    {
      "metadata": {
        "id": "kULcIKr4yHKO",
        "colab_type": "text"
      },
      "cell_type": "markdown",
      "source": [
        "## Model Architecture"
      ]
    },
    {
      "metadata": {
        "id": "V_4Xv8UfTeSA",
        "colab_type": "code",
        "colab": {}
      },
      "cell_type": "code",
      "source": [
        "model = Sequential()\n",
        "#layer1\n",
        "model.add(Conv2D(128, (3, 3),padding = \"same\", activation='relu', input_shape=(48, 48, 1)))\n",
        "model.add(MaxPooling2D(pool_size=(2, 2)))\n",
        "\n",
        "#layer2\n",
        "model.add(Conv2D(64, (3, 3), activation='relu',padding = \"same\"))\n",
        "model.add(MaxPooling2D(pool_size=(2, 2)))\n",
        "model.add(Dropout(0.25))\n",
        "\n",
        "#layer3\n",
        "model.add(Conv2D(32, (3, 3), activation='relu',padding = \"same\"))\n",
        "\n",
        "#layer4\n",
        "model.add(Conv2D(32, (3, 3), activation='relu',padding = \"same\"))\n",
        "model.add(MaxPooling2D(pool_size=(2, 2)))\n",
        "model.add(Dropout(0.25))\n",
        "\n",
        "#FC1\n",
        "model.add(Flatten())\n",
        "model.add(Dense(64, activation='relu'))\n",
        "\n",
        "#FC2\n",
        "model.add(Dense(32, activation='relu'))\n",
        "model.add(Dropout(0.5))\n",
        "\n",
        "#FC3\n",
        "model.add(Dense(7, activation='softmax'))\n",
        "\n"
      ],
      "execution_count": 0,
      "outputs": []
    },
    {
      "metadata": {
        "id": "SB-ajjrVYeln",
        "colab_type": "code",
        "colab": {}
      },
      "cell_type": "code",
      "source": [
        "model.compile(loss='categorical_crossentropy', optimizer=\"adam\",metrics = [\"accuracy\"])"
      ],
      "execution_count": 0,
      "outputs": []
    },
    {
      "metadata": {
        "id": "0suR4AF2yQAt",
        "colab_type": "text"
      },
      "cell_type": "markdown",
      "source": [
        "## Summary of Model Architecture"
      ]
    },
    {
      "metadata": {
        "id": "WPVjC3hjZZuy",
        "colab_type": "code",
        "colab": {
          "base_uri": "https://localhost:8080/",
          "height": 605
        },
        "outputId": "39ebe0cf-6a1b-4130-e685-9ab28745c59d"
      },
      "cell_type": "code",
      "source": [
        "model.summary()"
      ],
      "execution_count": 44,
      "outputs": [
        {
          "output_type": "stream",
          "text": [
            "_________________________________________________________________\n",
            "Layer (type)                 Output Shape              Param #   \n",
            "=================================================================\n",
            "conv2d_9 (Conv2D)            (None, 48, 48, 128)       1280      \n",
            "_________________________________________________________________\n",
            "max_pooling2d_7 (MaxPooling2 (None, 24, 24, 128)       0         \n",
            "_________________________________________________________________\n",
            "conv2d_10 (Conv2D)           (None, 24, 24, 64)        73792     \n",
            "_________________________________________________________________\n",
            "max_pooling2d_8 (MaxPooling2 (None, 12, 12, 64)        0         \n",
            "_________________________________________________________________\n",
            "dropout_7 (Dropout)          (None, 12, 12, 64)        0         \n",
            "_________________________________________________________________\n",
            "conv2d_11 (Conv2D)           (None, 12, 12, 32)        18464     \n",
            "_________________________________________________________________\n",
            "conv2d_12 (Conv2D)           (None, 12, 12, 32)        9248      \n",
            "_________________________________________________________________\n",
            "max_pooling2d_9 (MaxPooling2 (None, 6, 6, 32)          0         \n",
            "_________________________________________________________________\n",
            "dropout_8 (Dropout)          (None, 6, 6, 32)          0         \n",
            "_________________________________________________________________\n",
            "flatten_3 (Flatten)          (None, 1152)              0         \n",
            "_________________________________________________________________\n",
            "dense_7 (Dense)              (None, 64)                73792     \n",
            "_________________________________________________________________\n",
            "dense_8 (Dense)              (None, 32)                2080      \n",
            "_________________________________________________________________\n",
            "dropout_9 (Dropout)          (None, 32)                0         \n",
            "_________________________________________________________________\n",
            "dense_9 (Dense)              (None, 7)                 231       \n",
            "=================================================================\n",
            "Total params: 178,887\n",
            "Trainable params: 178,887\n",
            "Non-trainable params: 0\n",
            "_________________________________________________________________\n"
          ],
          "name": "stdout"
        }
      ]
    },
    {
      "metadata": {
        "id": "niStmIT-yjPh",
        "colab_type": "text"
      },
      "cell_type": "markdown",
      "source": [
        "## Training"
      ]
    },
    {
      "metadata": {
        "id": "XaGQ7VaMZcza",
        "colab_type": "code",
        "colab": {
          "base_uri": "https://localhost:8080/",
          "height": 10083
        },
        "outputId": "e920aa90-bbd1-44de-9ee7-37ab90506d36"
      },
      "cell_type": "code",
      "source": [
        "history=model.fit(images_train, y_train_hot, epochs=300, verbose=1, batch_size=64,\n",
        "                                    initial_epoch=0, shuffle=True)\n"
      ],
      "execution_count": 46,
      "outputs": [
        {
          "output_type": "stream",
          "text": [
            "Epoch 1/300\n",
            "25120/25120 [==============================] - 12s 464us/step - loss: 1.7279 - acc: 0.2994\n",
            "Epoch 2/300\n",
            "25120/25120 [==============================] - 11s 457us/step - loss: 1.7005 - acc: 0.3150\n",
            "Epoch 3/300\n",
            "25120/25120 [==============================] - 11s 457us/step - loss: 1.6651 - acc: 0.3294\n",
            "Epoch 4/300\n",
            "25120/25120 [==============================] - 12s 458us/step - loss: 1.6470 - acc: 0.3405\n",
            "Epoch 5/300\n",
            "25120/25120 [==============================] - 12s 459us/step - loss: 1.6215 - acc: 0.3527\n",
            "Epoch 6/300\n",
            "25120/25120 [==============================] - 12s 460us/step - loss: 1.6041 - acc: 0.3655\n",
            "Epoch 7/300\n",
            "25120/25120 [==============================] - 12s 458us/step - loss: 1.5934 - acc: 0.3723\n",
            "Epoch 8/300\n",
            "25120/25120 [==============================] - 11s 457us/step - loss: 1.5815 - acc: 0.3746\n",
            "Epoch 9/300\n",
            "25120/25120 [==============================] - 12s 458us/step - loss: 1.5694 - acc: 0.3764\n",
            "Epoch 10/300\n",
            "25120/25120 [==============================] - 12s 458us/step - loss: 1.5564 - acc: 0.3896\n",
            "Epoch 11/300\n",
            "25120/25120 [==============================] - 12s 459us/step - loss: 1.5451 - acc: 0.3910\n",
            "Epoch 12/300\n",
            "25120/25120 [==============================] - 12s 459us/step - loss: 1.5289 - acc: 0.4031\n",
            "Epoch 13/300\n",
            "25120/25120 [==============================] - 11s 458us/step - loss: 1.5191 - acc: 0.4057\n",
            "Epoch 14/300\n",
            "25120/25120 [==============================] - 12s 458us/step - loss: 1.5058 - acc: 0.4128\n",
            "Epoch 15/300\n",
            "25120/25120 [==============================] - 12s 459us/step - loss: 1.4886 - acc: 0.4227\n",
            "Epoch 16/300\n",
            "25120/25120 [==============================] - 12s 459us/step - loss: 1.4766 - acc: 0.4262\n",
            "Epoch 17/300\n",
            "25120/25120 [==============================] - 12s 458us/step - loss: 1.4653 - acc: 0.4324\n",
            "Epoch 18/300\n",
            "25120/25120 [==============================] - 11s 458us/step - loss: 1.4532 - acc: 0.4369\n",
            "Epoch 19/300\n",
            "25120/25120 [==============================] - 11s 457us/step - loss: 1.4460 - acc: 0.4419\n",
            "Epoch 20/300\n",
            "25120/25120 [==============================] - 12s 458us/step - loss: 1.4364 - acc: 0.4450\n",
            "Epoch 21/300\n",
            "25120/25120 [==============================] - 12s 458us/step - loss: 1.4254 - acc: 0.4535\n",
            "Epoch 22/300\n",
            "25120/25120 [==============================] - 12s 460us/step - loss: 1.4249 - acc: 0.4564\n",
            "Epoch 23/300\n",
            "25120/25120 [==============================] - 11s 457us/step - loss: 1.4068 - acc: 0.4582\n",
            "Epoch 24/300\n",
            "25120/25120 [==============================] - 11s 457us/step - loss: 1.4065 - acc: 0.4631\n",
            "Epoch 25/300\n",
            "25120/25120 [==============================] - 12s 458us/step - loss: 1.3886 - acc: 0.4672\n",
            "Epoch 26/300\n",
            "25120/25120 [==============================] - 12s 459us/step - loss: 1.3806 - acc: 0.4703\n",
            "Epoch 27/300\n",
            "25120/25120 [==============================] - 11s 458us/step - loss: 1.3600 - acc: 0.4765\n",
            "Epoch 28/300\n",
            "25120/25120 [==============================] - 11s 457us/step - loss: 1.3613 - acc: 0.4788\n",
            "Epoch 29/300\n",
            "25120/25120 [==============================] - 11s 455us/step - loss: 1.3485 - acc: 0.4828\n",
            "Epoch 30/300\n",
            "25120/25120 [==============================] - 12s 459us/step - loss: 1.3467 - acc: 0.4912\n",
            "Epoch 31/300\n",
            "25120/25120 [==============================] - 12s 458us/step - loss: 1.3430 - acc: 0.4857\n",
            "Epoch 32/300\n",
            "25120/25120 [==============================] - 12s 459us/step - loss: 1.3236 - acc: 0.4945\n",
            "Epoch 33/300\n",
            "25120/25120 [==============================] - 11s 457us/step - loss: 1.3296 - acc: 0.4943\n",
            "Epoch 34/300\n",
            "25120/25120 [==============================] - 12s 458us/step - loss: 1.3163 - acc: 0.5018\n",
            "Epoch 35/300\n",
            "25120/25120 [==============================] - 11s 458us/step - loss: 1.3083 - acc: 0.4995\n",
            "Epoch 36/300\n",
            "25120/25120 [==============================] - 12s 459us/step - loss: 1.2991 - acc: 0.5068\n",
            "Epoch 37/300\n",
            "25120/25120 [==============================] - 12s 459us/step - loss: 1.3015 - acc: 0.5069\n",
            "Epoch 38/300\n",
            "25120/25120 [==============================] - 12s 459us/step - loss: 1.2906 - acc: 0.5119\n",
            "Epoch 39/300\n",
            "25120/25120 [==============================] - 12s 459us/step - loss: 1.2817 - acc: 0.5131\n",
            "Epoch 40/300\n",
            "25120/25120 [==============================] - 12s 459us/step - loss: 1.2750 - acc: 0.5109\n",
            "Epoch 41/300\n",
            "25120/25120 [==============================] - 12s 458us/step - loss: 1.2751 - acc: 0.5198\n",
            "Epoch 42/300\n",
            "25120/25120 [==============================] - 12s 459us/step - loss: 1.2690 - acc: 0.5193\n",
            "Epoch 43/300\n",
            "25120/25120 [==============================] - 11s 457us/step - loss: 1.2616 - acc: 0.5238\n",
            "Epoch 44/300\n",
            "25120/25120 [==============================] - 12s 458us/step - loss: 1.2553 - acc: 0.5223\n",
            "Epoch 45/300\n",
            "25120/25120 [==============================] - 11s 457us/step - loss: 1.2519 - acc: 0.5247\n",
            "Epoch 46/300\n",
            "25120/25120 [==============================] - 11s 457us/step - loss: 1.2461 - acc: 0.5295\n",
            "Epoch 47/300\n",
            "25120/25120 [==============================] - 12s 458us/step - loss: 1.2396 - acc: 0.5299\n",
            "Epoch 48/300\n",
            "25120/25120 [==============================] - 12s 461us/step - loss: 1.2407 - acc: 0.5301\n",
            "Epoch 49/300\n",
            "25120/25120 [==============================] - 12s 460us/step - loss: 1.2438 - acc: 0.5298\n",
            "Epoch 50/300\n",
            "25120/25120 [==============================] - 12s 459us/step - loss: 1.2259 - acc: 0.5374\n",
            "Epoch 51/300\n",
            "25120/25120 [==============================] - 12s 459us/step - loss: 1.2204 - acc: 0.5407\n",
            "Epoch 52/300\n",
            "25120/25120 [==============================] - 11s 457us/step - loss: 1.2278 - acc: 0.5371\n",
            "Epoch 53/300\n",
            "25120/25120 [==============================] - 11s 457us/step - loss: 1.2224 - acc: 0.5385\n",
            "Epoch 54/300\n",
            "25120/25120 [==============================] - 12s 458us/step - loss: 1.2137 - acc: 0.5428\n",
            "Epoch 55/300\n",
            "25120/25120 [==============================] - 11s 457us/step - loss: 1.2087 - acc: 0.5445\n",
            "Epoch 56/300\n",
            "25120/25120 [==============================] - 11s 457us/step - loss: 1.1992 - acc: 0.5525\n",
            "Epoch 57/300\n",
            "25120/25120 [==============================] - 11s 457us/step - loss: 1.1989 - acc: 0.5492\n",
            "Epoch 58/300\n",
            "25120/25120 [==============================] - 12s 460us/step - loss: 1.1953 - acc: 0.5549\n",
            "Epoch 59/300\n",
            "25120/25120 [==============================] - 12s 458us/step - loss: 1.1796 - acc: 0.5566\n",
            "Epoch 60/300\n",
            "25120/25120 [==============================] - 11s 457us/step - loss: 1.1878 - acc: 0.5557\n",
            "Epoch 61/300\n",
            "25120/25120 [==============================] - 12s 459us/step - loss: 1.1837 - acc: 0.5554\n",
            "Epoch 62/300\n",
            "25120/25120 [==============================] - 11s 457us/step - loss: 1.1754 - acc: 0.5596\n",
            "Epoch 63/300\n",
            "25120/25120 [==============================] - 11s 456us/step - loss: 1.1748 - acc: 0.5586\n",
            "Epoch 64/300\n",
            "25120/25120 [==============================] - 11s 457us/step - loss: 1.1748 - acc: 0.5611\n",
            "Epoch 65/300\n",
            "25120/25120 [==============================] - 11s 457us/step - loss: 1.1670 - acc: 0.5643\n",
            "Epoch 66/300\n",
            "25120/25120 [==============================] - 12s 458us/step - loss: 1.1677 - acc: 0.5609\n",
            "Epoch 67/300\n",
            "25120/25120 [==============================] - 11s 458us/step - loss: 1.1645 - acc: 0.5600\n",
            "Epoch 68/300\n",
            "25120/25120 [==============================] - 11s 458us/step - loss: 1.1661 - acc: 0.5639\n",
            "Epoch 69/300\n",
            "25120/25120 [==============================] - 12s 460us/step - loss: 1.1602 - acc: 0.5668\n",
            "Epoch 70/300\n",
            "25120/25120 [==============================] - 12s 458us/step - loss: 1.1554 - acc: 0.5668\n",
            "Epoch 71/300\n",
            "25120/25120 [==============================] - 11s 457us/step - loss: 1.1460 - acc: 0.5716\n",
            "Epoch 72/300\n",
            "25120/25120 [==============================] - 12s 458us/step - loss: 1.1409 - acc: 0.5678\n",
            "Epoch 73/300\n",
            "25120/25120 [==============================] - 12s 458us/step - loss: 1.1485 - acc: 0.5711\n",
            "Epoch 74/300\n",
            "25120/25120 [==============================] - 11s 457us/step - loss: 1.1459 - acc: 0.5677\n",
            "Epoch 75/300\n",
            "25120/25120 [==============================] - 12s 460us/step - loss: 1.1337 - acc: 0.5741\n",
            "Epoch 76/300\n",
            "25120/25120 [==============================] - 12s 459us/step - loss: 1.1332 - acc: 0.5749\n",
            "Epoch 77/300\n",
            "25120/25120 [==============================] - 12s 459us/step - loss: 1.1369 - acc: 0.5760\n",
            "Epoch 78/300\n",
            "25120/25120 [==============================] - 12s 460us/step - loss: 1.1327 - acc: 0.5769\n",
            "Epoch 79/300\n",
            "25120/25120 [==============================] - 12s 460us/step - loss: 1.1273 - acc: 0.5818\n",
            "Epoch 80/300\n",
            "25120/25120 [==============================] - 11s 457us/step - loss: 1.1227 - acc: 0.5807\n",
            "Epoch 81/300\n",
            "25120/25120 [==============================] - 12s 459us/step - loss: 1.1270 - acc: 0.5837\n",
            "Epoch 82/300\n",
            "25120/25120 [==============================] - 12s 459us/step - loss: 1.1225 - acc: 0.5800\n",
            "Epoch 83/300\n",
            "25120/25120 [==============================] - 12s 458us/step - loss: 1.1257 - acc: 0.5828\n",
            "Epoch 84/300\n",
            "25120/25120 [==============================] - 12s 459us/step - loss: 1.1152 - acc: 0.5850\n",
            "Epoch 85/300\n",
            "25120/25120 [==============================] - 12s 460us/step - loss: 1.1097 - acc: 0.5899\n",
            "Epoch 86/300\n",
            "25120/25120 [==============================] - 11s 457us/step - loss: 1.1095 - acc: 0.5876\n",
            "Epoch 87/300\n",
            "25120/25120 [==============================] - 12s 458us/step - loss: 1.1244 - acc: 0.5814\n",
            "Epoch 88/300\n",
            "25120/25120 [==============================] - 12s 460us/step - loss: 1.1111 - acc: 0.5849\n",
            "Epoch 89/300\n",
            "25120/25120 [==============================] - 12s 459us/step - loss: 1.1039 - acc: 0.5865\n",
            "Epoch 90/300\n",
            "25120/25120 [==============================] - 12s 458us/step - loss: 1.1053 - acc: 0.5917\n",
            "Epoch 91/300\n",
            "25120/25120 [==============================] - 11s 458us/step - loss: 1.0994 - acc: 0.5898\n",
            "Epoch 92/300\n",
            "25120/25120 [==============================] - 12s 458us/step - loss: 1.1114 - acc: 0.5865\n",
            "Epoch 93/300\n",
            "25120/25120 [==============================] - 12s 459us/step - loss: 1.0973 - acc: 0.5941\n",
            "Epoch 94/300\n",
            "25120/25120 [==============================] - 12s 458us/step - loss: 1.0986 - acc: 0.5927\n",
            "Epoch 95/300\n",
            "25120/25120 [==============================] - 12s 459us/step - loss: 1.0935 - acc: 0.5947\n",
            "Epoch 96/300\n",
            "25120/25120 [==============================] - 12s 458us/step - loss: 1.0879 - acc: 0.5973\n",
            "Epoch 97/300\n",
            "25120/25120 [==============================] - 11s 458us/step - loss: 1.0956 - acc: 0.5912\n",
            "Epoch 98/300\n",
            "25120/25120 [==============================] - 12s 460us/step - loss: 1.0918 - acc: 0.5966\n",
            "Epoch 99/300\n",
            "25120/25120 [==============================] - 12s 458us/step - loss: 1.0854 - acc: 0.5957\n",
            "Epoch 100/300\n",
            "25120/25120 [==============================] - 12s 459us/step - loss: 1.0793 - acc: 0.5952\n",
            "Epoch 101/300\n",
            "25120/25120 [==============================] - 12s 459us/step - loss: 1.0922 - acc: 0.5952\n",
            "Epoch 102/300\n",
            "25120/25120 [==============================] - 12s 460us/step - loss: 1.0855 - acc: 0.5959\n",
            "Epoch 103/300\n",
            "25120/25120 [==============================] - 12s 460us/step - loss: 1.0794 - acc: 0.5968\n",
            "Epoch 104/300\n",
            "25120/25120 [==============================] - 12s 459us/step - loss: 1.0734 - acc: 0.6023\n",
            "Epoch 105/300\n",
            "25120/25120 [==============================] - 12s 460us/step - loss: 1.0750 - acc: 0.6023\n",
            "Epoch 106/300\n",
            "25120/25120 [==============================] - 12s 460us/step - loss: 1.0713 - acc: 0.6032\n",
            "Epoch 107/300\n",
            "25120/25120 [==============================] - 12s 458us/step - loss: 1.0761 - acc: 0.6021\n",
            "Epoch 108/300\n",
            "25120/25120 [==============================] - 12s 459us/step - loss: 1.0753 - acc: 0.6009\n",
            "Epoch 109/300\n",
            "25120/25120 [==============================] - 12s 458us/step - loss: 1.0702 - acc: 0.6035\n",
            "Epoch 110/300\n",
            "25120/25120 [==============================] - 12s 459us/step - loss: 1.0688 - acc: 0.6062\n",
            "Epoch 111/300\n",
            "25120/25120 [==============================] - 12s 460us/step - loss: 1.0620 - acc: 0.6021\n",
            "Epoch 112/300\n",
            "25120/25120 [==============================] - 12s 458us/step - loss: 1.0629 - acc: 0.6091\n",
            "Epoch 113/300\n",
            "25120/25120 [==============================] - 11s 457us/step - loss: 1.0662 - acc: 0.6034\n",
            "Epoch 114/300\n",
            "25120/25120 [==============================] - 12s 458us/step - loss: 1.0642 - acc: 0.6067\n",
            "Epoch 115/300\n",
            "25120/25120 [==============================] - 12s 458us/step - loss: 1.0600 - acc: 0.6084\n",
            "Epoch 116/300\n",
            "25120/25120 [==============================] - 12s 459us/step - loss: 1.0560 - acc: 0.6108\n",
            "Epoch 117/300\n",
            "25120/25120 [==============================] - 11s 458us/step - loss: 1.0495 - acc: 0.6131\n",
            "Epoch 118/300\n",
            "25120/25120 [==============================] - 11s 457us/step - loss: 1.0502 - acc: 0.6106\n",
            "Epoch 119/300\n",
            "25120/25120 [==============================] - 12s 458us/step - loss: 1.0536 - acc: 0.6117\n",
            "Epoch 120/300\n",
            "25120/25120 [==============================] - 11s 457us/step - loss: 1.0437 - acc: 0.6156\n",
            "Epoch 121/300\n",
            "25120/25120 [==============================] - 11s 457us/step - loss: 1.0466 - acc: 0.6140\n",
            "Epoch 122/300\n",
            "25120/25120 [==============================] - 11s 457us/step - loss: 1.0462 - acc: 0.6152\n",
            "Epoch 123/300\n",
            "25120/25120 [==============================] - 12s 458us/step - loss: 1.0464 - acc: 0.6135\n",
            "Epoch 124/300\n",
            "25120/25120 [==============================] - 12s 458us/step - loss: 1.0387 - acc: 0.6152\n",
            "Epoch 125/300\n",
            "25120/25120 [==============================] - 11s 457us/step - loss: 1.0321 - acc: 0.6150\n",
            "Epoch 126/300\n",
            "25120/25120 [==============================] - 11s 458us/step - loss: 1.0506 - acc: 0.6107\n",
            "Epoch 127/300\n",
            "25120/25120 [==============================] - 11s 456us/step - loss: 1.0395 - acc: 0.6172\n",
            "Epoch 128/300\n",
            "25120/25120 [==============================] - 11s 453us/step - loss: 1.0402 - acc: 0.6160\n",
            "Epoch 129/300\n",
            "25120/25120 [==============================] - 11s 455us/step - loss: 1.0291 - acc: 0.6204\n",
            "Epoch 130/300\n",
            "25120/25120 [==============================] - 11s 457us/step - loss: 1.0235 - acc: 0.6265\n",
            "Epoch 131/300\n",
            "25120/25120 [==============================] - 11s 453us/step - loss: 1.0359 - acc: 0.6226\n",
            "Epoch 132/300\n",
            "25120/25120 [==============================] - 11s 454us/step - loss: 1.0303 - acc: 0.6221\n",
            "Epoch 133/300\n",
            "25120/25120 [==============================] - 11s 454us/step - loss: 1.0307 - acc: 0.6167\n",
            "Epoch 134/300\n",
            "25120/25120 [==============================] - 11s 454us/step - loss: 1.0160 - acc: 0.6269\n",
            "Epoch 135/300\n",
            "25120/25120 [==============================] - 11s 453us/step - loss: 1.0242 - acc: 0.6245\n",
            "Epoch 136/300\n",
            "25120/25120 [==============================] - 11s 455us/step - loss: 1.0253 - acc: 0.6255\n",
            "Epoch 137/300\n",
            "25120/25120 [==============================] - 11s 455us/step - loss: 1.0317 - acc: 0.6225\n",
            "Epoch 138/300\n",
            "25120/25120 [==============================] - 11s 455us/step - loss: 1.0290 - acc: 0.6216\n",
            "Epoch 139/300\n",
            "25120/25120 [==============================] - 11s 454us/step - loss: 1.0276 - acc: 0.6261\n",
            "Epoch 140/300\n",
            "25120/25120 [==============================] - 11s 455us/step - loss: 1.0067 - acc: 0.6313\n",
            "Epoch 141/300\n",
            "25120/25120 [==============================] - 11s 455us/step - loss: 1.0236 - acc: 0.6244\n",
            "Epoch 142/300\n",
            "25120/25120 [==============================] - 11s 454us/step - loss: 1.0230 - acc: 0.6275\n",
            "Epoch 143/300\n",
            "25120/25120 [==============================] - 11s 453us/step - loss: 1.0045 - acc: 0.6324\n",
            "Epoch 144/300\n",
            "25120/25120 [==============================] - 11s 455us/step - loss: 1.0130 - acc: 0.6295\n",
            "Epoch 145/300\n",
            "25120/25120 [==============================] - 11s 454us/step - loss: 1.0096 - acc: 0.6307\n",
            "Epoch 146/300\n",
            "25120/25120 [==============================] - 11s 453us/step - loss: 1.0125 - acc: 0.6299\n",
            "Epoch 147/300\n",
            "25120/25120 [==============================] - 11s 456us/step - loss: 1.0151 - acc: 0.6260\n",
            "Epoch 148/300\n",
            "25120/25120 [==============================] - 11s 455us/step - loss: 1.0164 - acc: 0.6273\n",
            "Epoch 149/300\n",
            "25120/25120 [==============================] - 11s 454us/step - loss: 1.0077 - acc: 0.6333\n",
            "Epoch 150/300\n",
            "25120/25120 [==============================] - 11s 455us/step - loss: 1.0099 - acc: 0.6267\n",
            "Epoch 151/300\n",
            "25120/25120 [==============================] - 11s 454us/step - loss: 1.0003 - acc: 0.6369\n",
            "Epoch 152/300\n",
            "25120/25120 [==============================] - 11s 457us/step - loss: 1.0096 - acc: 0.6327\n",
            "Epoch 153/300\n",
            "25120/25120 [==============================] - 11s 454us/step - loss: 1.0053 - acc: 0.6339\n",
            "Epoch 154/300\n",
            "25120/25120 [==============================] - 11s 455us/step - loss: 1.0066 - acc: 0.6344\n",
            "Epoch 155/300\n",
            "25120/25120 [==============================] - 11s 455us/step - loss: 1.0026 - acc: 0.6311\n",
            "Epoch 156/300\n",
            "25120/25120 [==============================] - 11s 455us/step - loss: 0.9968 - acc: 0.6361\n",
            "Epoch 157/300\n",
            "25120/25120 [==============================] - 11s 458us/step - loss: 0.9910 - acc: 0.6357\n",
            "Epoch 158/300\n",
            "25120/25120 [==============================] - 11s 455us/step - loss: 1.0020 - acc: 0.6342\n",
            "Epoch 159/300\n",
            "25120/25120 [==============================] - 11s 454us/step - loss: 0.9916 - acc: 0.6403\n",
            "Epoch 160/300\n",
            "25120/25120 [==============================] - 11s 456us/step - loss: 1.0007 - acc: 0.6370\n",
            "Epoch 161/300\n",
            "25120/25120 [==============================] - 11s 455us/step - loss: 0.9919 - acc: 0.6383\n",
            "Epoch 162/300\n",
            "25120/25120 [==============================] - 12s 458us/step - loss: 0.9840 - acc: 0.6404\n",
            "Epoch 163/300\n",
            "25120/25120 [==============================] - 11s 455us/step - loss: 0.9924 - acc: 0.6398\n",
            "Epoch 164/300\n",
            "25120/25120 [==============================] - 11s 455us/step - loss: 0.9946 - acc: 0.6383\n",
            "Epoch 165/300\n",
            "25120/25120 [==============================] - 11s 456us/step - loss: 0.9886 - acc: 0.6416\n",
            "Epoch 166/300\n",
            "25120/25120 [==============================] - 11s 455us/step - loss: 0.9983 - acc: 0.6381\n",
            "Epoch 167/300\n",
            "25120/25120 [==============================] - 11s 454us/step - loss: 0.9909 - acc: 0.6388\n",
            "Epoch 168/300\n",
            "25120/25120 [==============================] - 11s 456us/step - loss: 0.9925 - acc: 0.6378\n",
            "Epoch 169/300\n",
            "25120/25120 [==============================] - 11s 454us/step - loss: 0.9891 - acc: 0.6414\n",
            "Epoch 170/300\n",
            "25120/25120 [==============================] - 11s 454us/step - loss: 0.9899 - acc: 0.6427\n",
            "Epoch 171/300\n",
            "25120/25120 [==============================] - 11s 455us/step - loss: 0.9866 - acc: 0.6406\n",
            "Epoch 172/300\n",
            "25120/25120 [==============================] - 11s 455us/step - loss: 0.9854 - acc: 0.6421\n",
            "Epoch 173/300\n",
            "25120/25120 [==============================] - 11s 455us/step - loss: 0.9749 - acc: 0.6404\n",
            "Epoch 174/300\n",
            "25120/25120 [==============================] - 11s 454us/step - loss: 0.9839 - acc: 0.6381\n",
            "Epoch 175/300\n",
            "25120/25120 [==============================] - 11s 455us/step - loss: 0.9725 - acc: 0.6454\n",
            "Epoch 176/300\n",
            "25120/25120 [==============================] - 11s 456us/step - loss: 0.9713 - acc: 0.6488\n",
            "Epoch 177/300\n",
            "25120/25120 [==============================] - 11s 454us/step - loss: 0.9728 - acc: 0.6516\n",
            "Epoch 178/300\n",
            "25120/25120 [==============================] - 11s 456us/step - loss: 0.9809 - acc: 0.6444\n",
            "Epoch 179/300\n",
            "25120/25120 [==============================] - 11s 454us/step - loss: 0.9716 - acc: 0.6457\n",
            "Epoch 180/300\n",
            "25120/25120 [==============================] - 11s 454us/step - loss: 0.9804 - acc: 0.6410\n",
            "Epoch 181/300\n",
            "25120/25120 [==============================] - 11s 454us/step - loss: 0.9769 - acc: 0.6456\n",
            "Epoch 182/300\n",
            "25120/25120 [==============================] - 11s 455us/step - loss: 0.9718 - acc: 0.6477\n",
            "Epoch 183/300\n",
            "25120/25120 [==============================] - 11s 457us/step - loss: 0.9818 - acc: 0.6416\n",
            "Epoch 184/300\n",
            "25120/25120 [==============================] - 11s 456us/step - loss: 0.9659 - acc: 0.6459\n",
            "Epoch 185/300\n",
            "25120/25120 [==============================] - 11s 455us/step - loss: 0.9642 - acc: 0.6529\n",
            "Epoch 186/300\n",
            "25120/25120 [==============================] - 11s 456us/step - loss: 0.9660 - acc: 0.6447\n",
            "Epoch 187/300\n",
            "25120/25120 [==============================] - 11s 455us/step - loss: 0.9727 - acc: 0.6473\n",
            "Epoch 188/300\n",
            "25120/25120 [==============================] - 11s 457us/step - loss: 0.9700 - acc: 0.6476\n",
            "Epoch 189/300\n",
            "25120/25120 [==============================] - 12s 458us/step - loss: 0.9678 - acc: 0.6516\n",
            "Epoch 190/300\n",
            "25120/25120 [==============================] - 11s 454us/step - loss: 0.9680 - acc: 0.6499\n",
            "Epoch 191/300\n",
            "25120/25120 [==============================] - 12s 459us/step - loss: 0.9626 - acc: 0.6485\n",
            "Epoch 192/300\n",
            "25120/25120 [==============================] - 11s 456us/step - loss: 0.9625 - acc: 0.6500\n",
            "Epoch 193/300\n",
            "25120/25120 [==============================] - 11s 456us/step - loss: 0.9567 - acc: 0.6582\n",
            "Epoch 194/300\n",
            "25120/25120 [==============================] - 11s 457us/step - loss: 0.9631 - acc: 0.6492\n",
            "Epoch 195/300\n",
            "25120/25120 [==============================] - 11s 455us/step - loss: 0.9552 - acc: 0.6484\n",
            "Epoch 196/300\n",
            "25120/25120 [==============================] - 11s 456us/step - loss: 0.9784 - acc: 0.6480\n",
            "Epoch 197/300\n",
            "25120/25120 [==============================] - 11s 456us/step - loss: 0.9590 - acc: 0.6537\n",
            "Epoch 198/300\n",
            "25120/25120 [==============================] - 11s 456us/step - loss: 0.9580 - acc: 0.6519\n",
            "Epoch 199/300\n",
            "25120/25120 [==============================] - 12s 459us/step - loss: 0.9504 - acc: 0.6549\n",
            "Epoch 200/300\n",
            "25120/25120 [==============================] - 11s 457us/step - loss: 0.9607 - acc: 0.6520\n",
            "Epoch 201/300\n",
            "25120/25120 [==============================] - 12s 458us/step - loss: 0.9427 - acc: 0.6596\n",
            "Epoch 202/300\n",
            "25120/25120 [==============================] - 11s 455us/step - loss: 0.9512 - acc: 0.6593\n",
            "Epoch 203/300\n",
            "25120/25120 [==============================] - 11s 458us/step - loss: 0.9504 - acc: 0.6539\n",
            "Epoch 204/300\n",
            "25120/25120 [==============================] - 11s 457us/step - loss: 0.9490 - acc: 0.6584\n",
            "Epoch 205/300\n",
            "25120/25120 [==============================] - 11s 456us/step - loss: 0.9534 - acc: 0.6557\n",
            "Epoch 206/300\n",
            "25120/25120 [==============================] - 11s 455us/step - loss: 0.9479 - acc: 0.6572\n",
            "Epoch 207/300\n",
            "25120/25120 [==============================] - 11s 455us/step - loss: 0.9516 - acc: 0.6576\n",
            "Epoch 208/300\n",
            "25120/25120 [==============================] - 11s 456us/step - loss: 0.9440 - acc: 0.6607\n",
            "Epoch 209/300\n",
            "25120/25120 [==============================] - 11s 456us/step - loss: 0.9467 - acc: 0.6575\n",
            "Epoch 210/300\n",
            "25120/25120 [==============================] - 12s 459us/step - loss: 0.9431 - acc: 0.6589\n",
            "Epoch 211/300\n",
            "25120/25120 [==============================] - 11s 458us/step - loss: 0.9523 - acc: 0.6553\n",
            "Epoch 212/300\n",
            "25120/25120 [==============================] - 11s 457us/step - loss: 0.9472 - acc: 0.6581\n",
            "Epoch 213/300\n",
            "25120/25120 [==============================] - 12s 458us/step - loss: 0.9478 - acc: 0.6584\n",
            "Epoch 214/300\n",
            "25120/25120 [==============================] - 12s 458us/step - loss: 0.9512 - acc: 0.6588\n",
            "Epoch 215/300\n",
            "25120/25120 [==============================] - 11s 457us/step - loss: 0.9457 - acc: 0.6587\n",
            "Epoch 216/300\n",
            "25120/25120 [==============================] - 12s 459us/step - loss: 0.9507 - acc: 0.6576\n",
            "Epoch 217/300\n",
            "25120/25120 [==============================] - 11s 456us/step - loss: 0.9370 - acc: 0.6641\n",
            "Epoch 218/300\n",
            "25120/25120 [==============================] - 12s 459us/step - loss: 0.9448 - acc: 0.6606\n",
            "Epoch 219/300\n",
            "25120/25120 [==============================] - 11s 457us/step - loss: 0.9383 - acc: 0.6600\n",
            "Epoch 220/300\n",
            "25120/25120 [==============================] - 12s 459us/step - loss: 0.9398 - acc: 0.6636\n",
            "Epoch 221/300\n",
            "25120/25120 [==============================] - 11s 457us/step - loss: 0.9430 - acc: 0.6668\n",
            "Epoch 222/300\n",
            "25120/25120 [==============================] - 11s 458us/step - loss: 0.9382 - acc: 0.6624\n",
            "Epoch 223/300\n",
            "25120/25120 [==============================] - 11s 457us/step - loss: 0.9370 - acc: 0.6620\n",
            "Epoch 224/300\n",
            "25120/25120 [==============================] - 11s 455us/step - loss: 0.9380 - acc: 0.6578\n",
            "Epoch 225/300\n",
            "25120/25120 [==============================] - 11s 457us/step - loss: 0.9452 - acc: 0.6611\n",
            "Epoch 226/300\n",
            "25120/25120 [==============================] - 11s 456us/step - loss: 0.9295 - acc: 0.6648\n",
            "Epoch 227/300\n",
            "25120/25120 [==============================] - 11s 455us/step - loss: 0.9346 - acc: 0.6667\n",
            "Epoch 228/300\n",
            "25120/25120 [==============================] - 12s 458us/step - loss: 0.9218 - acc: 0.6685\n",
            "Epoch 229/300\n",
            "25120/25120 [==============================] - 11s 456us/step - loss: 0.9354 - acc: 0.6654\n",
            "Epoch 230/300\n",
            "25120/25120 [==============================] - 11s 457us/step - loss: 0.9328 - acc: 0.6663\n",
            "Epoch 231/300\n",
            "25120/25120 [==============================] - 12s 460us/step - loss: 0.9286 - acc: 0.6666\n",
            "Epoch 232/300\n",
            "25120/25120 [==============================] - 11s 457us/step - loss: 0.9221 - acc: 0.6716\n",
            "Epoch 233/300\n",
            "25120/25120 [==============================] - 11s 456us/step - loss: 0.9315 - acc: 0.6626\n",
            "Epoch 234/300\n",
            "25120/25120 [==============================] - 12s 460us/step - loss: 0.9280 - acc: 0.6668\n",
            "Epoch 235/300\n",
            "25120/25120 [==============================] - 11s 456us/step - loss: 0.9247 - acc: 0.6689\n",
            "Epoch 236/300\n",
            "25120/25120 [==============================] - 11s 456us/step - loss: 0.9261 - acc: 0.6668\n",
            "Epoch 237/300\n",
            "25120/25120 [==============================] - 11s 457us/step - loss: 0.9317 - acc: 0.6629\n",
            "Epoch 238/300\n",
            "25120/25120 [==============================] - 12s 460us/step - loss: 0.9328 - acc: 0.6638\n",
            "Epoch 239/300\n",
            "25120/25120 [==============================] - 11s 456us/step - loss: 0.9318 - acc: 0.6660\n",
            "Epoch 240/300\n",
            "25120/25120 [==============================] - 11s 458us/step - loss: 0.9270 - acc: 0.6680\n",
            "Epoch 241/300\n",
            "25120/25120 [==============================] - 12s 459us/step - loss: 0.9295 - acc: 0.6708\n",
            "Epoch 242/300\n",
            "25120/25120 [==============================] - 11s 456us/step - loss: 0.9364 - acc: 0.6621\n",
            "Epoch 243/300\n",
            "25120/25120 [==============================] - 11s 457us/step - loss: 0.9258 - acc: 0.6699\n",
            "Epoch 244/300\n",
            "25120/25120 [==============================] - 12s 459us/step - loss: 0.9219 - acc: 0.6673\n",
            "Epoch 245/300\n",
            "25120/25120 [==============================] - 12s 458us/step - loss: 0.9340 - acc: 0.6679\n",
            "Epoch 246/300\n",
            "25120/25120 [==============================] - 12s 459us/step - loss: 0.9211 - acc: 0.6688\n",
            "Epoch 247/300\n",
            "25120/25120 [==============================] - 12s 460us/step - loss: 0.9085 - acc: 0.6743\n",
            "Epoch 248/300\n",
            "25120/25120 [==============================] - 11s 457us/step - loss: 0.9194 - acc: 0.6677\n",
            "Epoch 249/300\n",
            "25120/25120 [==============================] - 11s 456us/step - loss: 0.9223 - acc: 0.6689\n",
            "Epoch 250/300\n",
            "25120/25120 [==============================] - 11s 458us/step - loss: 0.9163 - acc: 0.6718\n",
            "Epoch 251/300\n",
            "25120/25120 [==============================] - 11s 457us/step - loss: 0.9227 - acc: 0.6717\n",
            "Epoch 252/300\n",
            "25120/25120 [==============================] - 11s 458us/step - loss: 0.9117 - acc: 0.6719\n",
            "Epoch 253/300\n",
            "25120/25120 [==============================] - 12s 460us/step - loss: 0.9216 - acc: 0.6701\n",
            "Epoch 254/300\n",
            "25120/25120 [==============================] - 11s 457us/step - loss: 0.9237 - acc: 0.6670\n",
            "Epoch 255/300\n",
            "25120/25120 [==============================] - 11s 456us/step - loss: 0.9314 - acc: 0.6688\n",
            "Epoch 256/300\n",
            "25120/25120 [==============================] - 11s 457us/step - loss: 0.9124 - acc: 0.6752\n",
            "Epoch 257/300\n",
            "25120/25120 [==============================] - 11s 456us/step - loss: 0.9172 - acc: 0.6744\n",
            "Epoch 258/300\n",
            "25120/25120 [==============================] - 11s 457us/step - loss: 0.9138 - acc: 0.6707\n",
            "Epoch 259/300\n",
            "25120/25120 [==============================] - 11s 458us/step - loss: 0.9155 - acc: 0.6758\n",
            "Epoch 260/300\n",
            "25120/25120 [==============================] - 11s 457us/step - loss: 0.9147 - acc: 0.6761\n",
            "Epoch 261/300\n",
            "25120/25120 [==============================] - 11s 456us/step - loss: 0.9143 - acc: 0.6767\n",
            "Epoch 262/300\n",
            "25120/25120 [==============================] - 11s 458us/step - loss: 0.9217 - acc: 0.6701\n",
            "Epoch 263/300\n",
            "25120/25120 [==============================] - 11s 455us/step - loss: 0.9176 - acc: 0.6695\n",
            "Epoch 264/300\n",
            "25120/25120 [==============================] - 11s 456us/step - loss: 0.9137 - acc: 0.6707\n",
            "Epoch 265/300\n",
            "25120/25120 [==============================] - 12s 460us/step - loss: 0.9141 - acc: 0.6716\n",
            "Epoch 266/300\n",
            "25120/25120 [==============================] - 12s 459us/step - loss: 0.9205 - acc: 0.6748\n",
            "Epoch 267/300\n",
            "25120/25120 [==============================] - 11s 456us/step - loss: 0.8997 - acc: 0.6769\n",
            "Epoch 268/300\n",
            "25120/25120 [==============================] - 11s 456us/step - loss: 0.9069 - acc: 0.6771\n",
            "Epoch 269/300\n",
            "25120/25120 [==============================] - 11s 457us/step - loss: 0.9100 - acc: 0.6734\n",
            "Epoch 270/300\n",
            "25120/25120 [==============================] - 11s 456us/step - loss: 0.9171 - acc: 0.6701\n",
            "Epoch 271/300\n",
            "25120/25120 [==============================] - 12s 460us/step - loss: 0.9071 - acc: 0.6766\n",
            "Epoch 272/300\n",
            "25120/25120 [==============================] - 12s 459us/step - loss: 0.9093 - acc: 0.6748\n",
            "Epoch 273/300\n",
            "25120/25120 [==============================] - 12s 460us/step - loss: 0.9014 - acc: 0.6747\n",
            "Epoch 274/300\n",
            "25120/25120 [==============================] - 12s 460us/step - loss: 0.9080 - acc: 0.6748\n",
            "Epoch 275/300\n",
            "25120/25120 [==============================] - 12s 465us/step - loss: 0.9048 - acc: 0.6742\n",
            "Epoch 276/300\n",
            "25120/25120 [==============================] - 12s 460us/step - loss: 0.9179 - acc: 0.6762\n",
            "Epoch 277/300\n",
            "25120/25120 [==============================] - 12s 460us/step - loss: 0.9054 - acc: 0.6760\n",
            "Epoch 278/300\n",
            "25120/25120 [==============================] - 11s 458us/step - loss: 0.9110 - acc: 0.6754\n",
            "Epoch 279/300\n",
            "25120/25120 [==============================] - 12s 467us/step - loss: 0.9131 - acc: 0.6760\n",
            "Epoch 280/300\n",
            "25120/25120 [==============================] - 12s 459us/step - loss: 0.9047 - acc: 0.6760\n",
            "Epoch 281/300\n",
            "25120/25120 [==============================] - 12s 461us/step - loss: 0.9003 - acc: 0.6761\n",
            "Epoch 282/300\n",
            "25120/25120 [==============================] - 12s 460us/step - loss: 0.9021 - acc: 0.6793\n",
            "Epoch 283/300\n",
            "25120/25120 [==============================] - 12s 462us/step - loss: 0.9141 - acc: 0.6723\n",
            "Epoch 284/300\n",
            "25120/25120 [==============================] - 12s 460us/step - loss: 0.8931 - acc: 0.6772\n",
            "Epoch 285/300\n",
            "25120/25120 [==============================] - 12s 458us/step - loss: 0.8938 - acc: 0.6777\n",
            "Epoch 286/300\n",
            "25120/25120 [==============================] - 12s 459us/step - loss: 0.9069 - acc: 0.6812\n",
            "Epoch 287/300\n",
            "25120/25120 [==============================] - 12s 460us/step - loss: 0.9021 - acc: 0.6777\n",
            "Epoch 288/300\n",
            "25120/25120 [==============================] - 12s 461us/step - loss: 0.9017 - acc: 0.6818\n",
            "Epoch 289/300\n",
            "25120/25120 [==============================] - 11s 457us/step - loss: 0.9014 - acc: 0.6745\n",
            "Epoch 290/300\n",
            "25120/25120 [==============================] - 11s 457us/step - loss: 0.9095 - acc: 0.6776\n",
            "Epoch 291/300\n",
            "25120/25120 [==============================] - 11s 458us/step - loss: 0.8920 - acc: 0.6802\n",
            "Epoch 292/300\n",
            "25120/25120 [==============================] - 12s 459us/step - loss: 0.8987 - acc: 0.6794\n",
            "Epoch 293/300\n",
            "25120/25120 [==============================] - 12s 458us/step - loss: 0.9068 - acc: 0.6771\n",
            "Epoch 294/300\n",
            "25120/25120 [==============================] - 11s 458us/step - loss: 0.9011 - acc: 0.6759\n",
            "Epoch 295/300\n",
            "25120/25120 [==============================] - 12s 459us/step - loss: 0.8961 - acc: 0.6813\n",
            "Epoch 296/300\n",
            "25120/25120 [==============================] - 11s 457us/step - loss: 0.8943 - acc: 0.6820\n",
            "Epoch 297/300\n",
            "25120/25120 [==============================] - 12s 458us/step - loss: 0.8934 - acc: 0.6816\n",
            "Epoch 298/300\n",
            "25120/25120 [==============================] - 11s 458us/step - loss: 0.8933 - acc: 0.6830\n",
            "Epoch 299/300\n",
            "20800/25120 [=======================>......] - ETA: 1s - loss: 0.8955 - acc: 0.6817Buffered data was truncated after reaching the output size limit."
          ],
          "name": "stdout"
        }
      ]
    },
    {
      "metadata": {
        "id": "Qoda8ZP9y5_1",
        "colab_type": "text"
      },
      "cell_type": "markdown",
      "source": [
        "#  Helper Functions"
      ]
    },
    {
      "metadata": {
        "id": "ITLNuXJmzAev",
        "colab_type": "text"
      },
      "cell_type": "markdown",
      "source": [
        "### For Plotting Accuracy"
      ]
    },
    {
      "metadata": {
        "id": "F7wKJotWbveJ",
        "colab_type": "code",
        "colab": {}
      },
      "cell_type": "code",
      "source": [
        "\n",
        "def plot_accuracy(history):\n",
        "  plt.figure(figsize = (15,5))\n",
        "  plt.plot(history.history['acc'])\n",
        "  plt.title('Model accuracy')\n",
        "  plt.ylabel('Accuracy')\n",
        "  plt.xlabel('Epoch')\n",
        "  plt.legend(['Train', 'Test'], loc='upper left')\n",
        "  plt.show()\n",
        "  \n",
        "  # Plot training & validation loss values\n",
        "  plt.figure(figsize=(15,5))\n",
        "  plt.plot(history.history['loss'])\n",
        "  plt.title('Model loss')\n",
        "  plt.ylabel('Loss')\n",
        "  plt.xlabel('Epoch')\n",
        "  plt.legend(['Train', 'Test'], loc='upper left')\n",
        "  plt.show()\n",
        "  "
      ],
      "execution_count": 0,
      "outputs": []
    },
    {
      "metadata": {
        "id": "pob725VM0NCv",
        "colab_type": "text"
      },
      "cell_type": "markdown",
      "source": [
        "### Accuracy and Saving the Model"
      ]
    },
    {
      "metadata": {
        "id": "ZMFnXxcncEIo",
        "colab_type": "code",
        "colab": {}
      },
      "cell_type": "code",
      "source": [
        "def model_accuracy(x_test,y_test):\n",
        "  scores = model.evaluate(images_test, y_test_hot, verbose=2)\n",
        "  print(scores[1]*100,\"%\")"
      ],
      "execution_count": 0,
      "outputs": []
    },
    {
      "metadata": {
        "id": "uTrbltY89Fqr",
        "colab_type": "code",
        "colab": {}
      },
      "cell_type": "code",
      "source": [
        ""
      ],
      "execution_count": 0,
      "outputs": []
    },
    {
      "metadata": {
        "id": "wZ_GZegHpyxe",
        "colab_type": "code",
        "colab": {}
      },
      "cell_type": "code",
      "source": [
        "def save_model(model):\n",
        "  model.save_weights(\"keras.hdf5\",overwrite=True)"
      ],
      "execution_count": 0,
      "outputs": []
    },
    {
      "metadata": {
        "id": "JaPwIvUbVJne",
        "colab_type": "code",
        "colab": {
          "base_uri": "https://localhost:8080/",
          "height": 34
        },
        "outputId": "9c95a4f0-7929-48c7-a202-4699d61adfa1"
      },
      "cell_type": "code",
      "source": [
        "y_predict = model.predict_classes(images_test, verbose=1)"
      ],
      "execution_count": 144,
      "outputs": [
        {
          "output_type": "stream",
          "text": [
            "10767/10767 [==============================] - 2s 219us/step\n"
          ],
          "name": "stdout"
        }
      ]
    },
    {
      "metadata": {
        "id": "ZjDJaQsZkJxZ",
        "colab_type": "code",
        "colab": {}
      },
      "cell_type": "code",
      "source": [
        "y_test =np.array(y_test)"
      ],
      "execution_count": 0,
      "outputs": []
    },
    {
      "metadata": {
        "id": "V3gIWOF2l_EJ",
        "colab_type": "code",
        "colab": {}
      },
      "cell_type": "code",
      "source": [
        "cm = confusion_matrix(y_target=y_test, y_predicted=y_predict)"
      ],
      "execution_count": 0,
      "outputs": []
    },
    {
      "metadata": {
        "id": "SoPkBy8tzSbo",
        "colab_type": "text"
      },
      "cell_type": "markdown",
      "source": [
        "### For Plotting Confusion Matrix"
      ]
    },
    {
      "metadata": {
        "id": "q0EQBEiUqpFF",
        "colab_type": "code",
        "colab": {}
      },
      "cell_type": "code",
      "source": [
        "def plot_cm(cm):\n",
        "  plt.figure(figsize=(10,5))\n",
        "  column = [\"Angry\",\"Disgust\",\"Fear\",\"Happy\",\"Sad\",\"Surprise\",\"Neutral\"]\n",
        "  df_cm = pd.DataFrame(cm, index=column,columns=column)\n",
        "  ax = sns.heatmap(df_cm, cmap='Oranges', annot=True,fmt='g')"
      ],
      "execution_count": 0,
      "outputs": []
    },
    {
      "metadata": {
        "id": "jzr7PoMuq_Hp",
        "colab_type": "code",
        "colab": {
          "base_uri": "https://localhost:8080/",
          "height": 320
        },
        "outputId": "d2eee74a-2ace-484c-d8a7-290914f8dcaf"
      },
      "cell_type": "code",
      "source": [
        "plot_cm(cm)"
      ],
      "execution_count": 149,
      "outputs": [
        {
          "output_type": "display_data",
          "data": {
            "image/png": "[encoded data removed]",
            "text/plain": [
              "<matplotlib.figure.Figure at 0x7f47a7306358>"
            ]
          },
          "metadata": {
            "tags": []
          }
        }
      ]
    },
    {
      "metadata": {
        "id": "HIGoZ4-hs2JY",
        "colab_type": "code",
        "colab": {
          "base_uri": "https://localhost:8080/",
          "height": 701
        },
        "outputId": "ae2812bb-bcbe-4b58-9b6f-a6e5203087ec"
      },
      "cell_type": "code",
      "source": [
        "plot_accuracy(history)"
      ],
      "execution_count": 153,
      "outputs": [
        {
          "output_type": "display_data",
          "data": {
            "image/png": "[encoded data removed]",
            "text/plain": [
              "<matplotlib.figure.Figure at 0x7f47a6df44a8>"
            ]
          },
          "metadata": {
            "tags": []
          }
        },
        {
          "output_type": "display_data",
          "data": {
            "image/png": "[encoded data removed]",
            "text/plain": [
              "<matplotlib.figure.Figure at 0x7f47a7224940>"
            ]
          },
          "metadata": {
            "tags": []
          }
        }
      ]
    },
    {
      "metadata": {
        "id": "AEEkK97hzxzl",
        "colab_type": "code",
        "colab": {
          "base_uri": "https://localhost:8080/",
          "height": 34
        },
        "outputId": "447611ea-e2b1-4099-b19d-7e3478d8186e"
      },
      "cell_type": "code",
      "source": [
        "model_accuracy(images_test,y_test_hot)"
      ],
      "execution_count": 154,
      "outputs": [
        {
          "output_type": "stream",
          "text": [
            "53.25531717616446 %\n"
          ],
          "name": "stdout"
        }
      ]
    },
    {
      "metadata": {
        "id": "wJfNMUCQz5ZU",
        "colab_type": "code",
        "colab": {}
      },
      "cell_type": "code",
      "source": [
        ""
      ],
      "execution_count": 0,
      "outputs": []
    }
  ]
}