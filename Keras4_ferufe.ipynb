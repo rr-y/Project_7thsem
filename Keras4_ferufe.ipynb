{
  "nbformat": 4,
  "nbformat_minor": 0,
  "metadata": {
    "colab": {
      "name": "Keras.ipynb",
      "version": "0.3.2",
      "provenance": [],
      "include_colab_link": true
    },
    "kernelspec": {
      "name": "python3",
      "display_name": "Python 3"
    },
    "accelerator": "GPU"
  },
  "cells": [
    {
      "cell_type": "markdown",
      "metadata": {
        "id": "view-in-github",
        "colab_type": "text"
      },
      "source": [
        "<a href=\"https://colab.research.google.com/github/rr-y/Project_7thsem/blob/master/Keras4_ferufe.ipynb\" target=\"_parent\"><img src=\"https://colab.research.google.com/assets/colab-badge.svg\" alt=\"Open In Colab\"/></a>"
      ]
    },
    {
      "metadata": {
        "id": "I2JPMfJDJ_ei",
        "colab_type": "code",
        "colab": {}
      },
      "cell_type": "code",
      "source": [
        "#import cv2\n",
        "import time\n",
        "import sys\n",
        "import os\n",
        "#import glob\n",
        "from PIL import Image\n",
        "import tensorflow as tf\n",
        "import numpy as np\n",
        "import pandas as pd\n",
        "import matplotlib.pyplot as plt\n",
        "import seaborn as sns\n",
        "from keras.layers.normalization import BatchNormalization\n",
        "from mlxtend.evaluate import confusion_matrix \n",
        "from mlxtend.plotting import plot_confusion_matrix\n",
        "import keras\n",
        "from keras import metrics\n",
        "\n",
        "%matplotlib inline\n",
        "\n"
      ],
      "execution_count": 0,
      "outputs": []
    },
    {
      "metadata": {
        "id": "TbBVlsIdRZVI",
        "colab_type": "code",
        "colab": {}
      },
      "cell_type": "code",
      "source": [
        "from keras.models import Sequential\n",
        "from keras.layers import Dense, Dropout, Flatten\n",
        "from keras.layers import Conv2D, MaxPooling2D\n",
        "from sklearn.model_selection import GridSearchCV\n"
      ],
      "execution_count": 0,
      "outputs": []
    },
    {
      "metadata": {
        "id": "G22mp1LG8ZKM",
        "colab_type": "code",
        "colab": {
          "base_uri": "https://localhost:8080/",
          "height": 306
        },
        "outputId": "babae4e8-f82b-4a19-c0e7-bf9f81709229"
      },
      "cell_type": "code",
      "source": [
        "!pip install mlxtend"
      ],
      "execution_count": 3,
      "outputs": [
        {
          "output_type": "stream",
          "text": [
            "Collecting mlxtend\n",
            "\u001b[?25l  Downloading https://files.pythonhosted.org/packages/44/d1/1b9e85e991f836e9aaea18367ff628a6324af1005971dc9f57e51a2ab5a4/mlxtend-0.14.0-py2.py3-none-any.whl (1.3MB)\n",
            "\u001b[K    100% |████████████████████████████████| 1.3MB 8.9MB/s \n",
            "\u001b[?25hRequirement already satisfied: scikit-learn>=0.18 in /usr/local/lib/python3.6/dist-packages (from mlxtend) (0.19.2)\n",
            "Requirement already satisfied: setuptools in /usr/local/lib/python3.6/dist-packages (from mlxtend) (40.6.2)\n",
            "Requirement already satisfied: numpy>=1.10.4 in /usr/local/lib/python3.6/dist-packages (from mlxtend) (1.14.6)\n",
            "Requirement already satisfied: matplotlib>=1.5.1 in /usr/local/lib/python3.6/dist-packages (from mlxtend) (2.1.2)\n",
            "Requirement already satisfied: pandas>=0.17.1 in /usr/local/lib/python3.6/dist-packages (from mlxtend) (0.22.0)\n",
            "Requirement already satisfied: scipy>=0.17 in /usr/local/lib/python3.6/dist-packages (from mlxtend) (1.1.0)\n",
            "Requirement already satisfied: python-dateutil>=2.1 in /usr/local/lib/python3.6/dist-packages (from matplotlib>=1.5.1->mlxtend) (2.5.3)\n",
            "Requirement already satisfied: six>=1.10 in /usr/local/lib/python3.6/dist-packages (from matplotlib>=1.5.1->mlxtend) (1.11.0)\n",
            "Requirement already satisfied: cycler>=0.10 in /usr/local/lib/python3.6/dist-packages (from matplotlib>=1.5.1->mlxtend) (0.10.0)\n",
            "Requirement already satisfied: pyparsing!=2.0.4,!=2.1.2,!=2.1.6,>=2.0.1 in /usr/local/lib/python3.6/dist-packages (from matplotlib>=1.5.1->mlxtend) (2.3.0)\n",
            "Requirement already satisfied: pytz in /usr/local/lib/python3.6/dist-packages (from matplotlib>=1.5.1->mlxtend) (2018.7)\n",
            "Installing collected packages: mlxtend\n",
            "Successfully installed mlxtend-0.14.0\n"
          ],
          "name": "stdout"
        }
      ]
    },
    {
      "metadata": {
        "id": "uJjyvGqqx19P",
        "colab_type": "text"
      },
      "cell_type": "markdown",
      "source": [
        "## Connecting Google Drive to Google Colab"
      ]
    },
    {
      "metadata": {
        "id": "Xj4thirlR01i",
        "colab_type": "code",
        "colab": {
          "base_uri": "https://localhost:8080/",
          "height": 121
        },
        "outputId": "c6fe90e5-2c90-4f84-fae1-ea543e0ff881"
      },
      "cell_type": "code",
      "source": [
        "# Load the Drive helper and mount\n",
        "from google.colab import drive\n",
        "\n",
        "# This will prompt for authorization.\n",
        "drive.mount('/content/drive')"
      ],
      "execution_count": 6,
      "outputs": [
        {
          "output_type": "stream",
          "text": [
            "Go to this URL in a browser: https://accounts.google.com/o/oauth2/auth?client_id=947318989803-6bn6qk8qdgf4n4g3pfee6491hc0brc4i.apps.googleusercontent.com&redirect_uri=urn%3Aietf%3Awg%3Aoauth%3A2.0%3Aoob&scope=email%20https%3A%2F%2Fwww.googleapis.com%2Fauth%2Fdocs.test%20https%3A%2F%2Fwww.googleapis.com%2Fauth%2Fdrive%20https%3A%2F%2Fwww.googleapis.com%2Fauth%2Fdrive.photos.readonly%20https%3A%2F%2Fwww.googleapis.com%2Fauth%2Fpeopleapi.readonly&response_type=code\n",
            "\n",
            "Enter your authorization code:\n",
            "··········\n",
            "Mounted at /content/drive\n"
          ],
          "name": "stdout"
        }
      ]
    },
    {
      "metadata": {
        "id": "8b3dQfMPpH-_",
        "colab_type": "code",
        "colab": {
          "base_uri": "https://localhost:8080/",
          "height": 34
        },
        "outputId": "3988811d-e7dd-48f5-d39a-c2b7a6588000"
      },
      "cell_type": "code",
      "source": [
        "cd drive/My\\ Drive/Colab\\ Notebooks"
      ],
      "execution_count": 8,
      "outputs": [
        {
          "output_type": "stream",
          "text": [
            "/content/drive/My Drive/Colab Notebooks\n"
          ],
          "name": "stdout"
        }
      ]
    },
    {
      "metadata": {
        "id": "8vr62wMtR-X0",
        "colab_type": "code",
        "colab": {}
      },
      "cell_type": "code",
      "source": [
        "df = pd.read_csv(\"fer2013.csv\")\n"
      ],
      "execution_count": 0,
      "outputs": []
    },
    {
      "metadata": {
        "id": "1atvCsiExiFb",
        "colab_type": "text"
      },
      "cell_type": "markdown",
      "source": [
        "## Data Reading and Preprocessing"
      ]
    },
    {
      "metadata": {
        "id": "96BIPtZjnSEA",
        "colab_type": "code",
        "colab": {
          "base_uri": "https://localhost:8080/",
          "height": 34
        },
        "outputId": "4c7fe3ed-0ba8-4200-e603-7ec0c1ad9316"
      },
      "cell_type": "code",
      "source": [
        "cd Colab\\ Notebooks"
      ],
      "execution_count": 7,
      "outputs": [
        {
          "output_type": "stream",
          "text": [
            "/content/drive/My Drive/Colab Notebooks\n"
          ],
          "name": "stdout"
        }
      ]
    },
    {
      "metadata": {
        "id": "oECHxocLSoyG",
        "colab_type": "code",
        "colab": {}
      },
      "cell_type": "code",
      "source": [
        "from sklearn.model_selection import train_test_split"
      ],
      "execution_count": 0,
      "outputs": []
    },
    {
      "metadata": {
        "id": "s6J7iV1fSQXl",
        "colab_type": "code",
        "colab": {}
      },
      "cell_type": "code",
      "source": [
        "X_train, X_test, y_train, y_test = train_test_split(df['pixels'], df['emotion'], test_size=0.3, random_state=30)"
      ],
      "execution_count": 0,
      "outputs": []
    },
    {
      "metadata": {
        "id": "FLQLzPBhSl5n",
        "colab_type": "code",
        "colab": {}
      },
      "cell_type": "code",
      "source": [
        "df_train=pd.DataFrame({'index':X_train.index, 'value':X_train.values})"
      ],
      "execution_count": 0,
      "outputs": []
    },
    {
      "metadata": {
        "id": "wBiq530NSylV",
        "colab_type": "code",
        "colab": {}
      },
      "cell_type": "code",
      "source": [
        "df_test=pd.DataFrame({'index':X_test.index, 'value':X_test.values})"
      ],
      "execution_count": 0,
      "outputs": []
    },
    {
      "metadata": {
        "id": "Xk1VpHQ-S16f",
        "colab_type": "code",
        "colab": {}
      },
      "cell_type": "code",
      "source": [
        "X_train=df_train['value']"
      ],
      "execution_count": 0,
      "outputs": []
    },
    {
      "metadata": {
        "id": "9zZoTwaJS4Tf",
        "colab_type": "code",
        "colab": {}
      },
      "cell_type": "code",
      "source": [
        "X_test=df_test['value']\n"
      ],
      "execution_count": 0,
      "outputs": []
    },
    {
      "metadata": {
        "id": "HfonrL9WS6Ke",
        "colab_type": "code",
        "colab": {}
      },
      "cell_type": "code",
      "source": [
        "images=[]\n",
        "\n",
        "for i in range(len(X_train)):\n",
        "    image_string = X_train[i]\n",
        "    image = [int(x) for x in image_string.split()]\n",
        "    image=np.array(image,dtype='float32')\n",
        "    image=image.reshape((48,48,1))\n",
        "    images.append(image)"
      ],
      "execution_count": 0,
      "outputs": []
    },
    {
      "metadata": {
        "id": "1NcRits4S8WE",
        "colab_type": "code",
        "colab": {
          "base_uri": "https://localhost:8080/",
          "height": 284
        },
        "outputId": "f537b689-e100-4b0c-c890-084b45d76828"
      },
      "cell_type": "code",
      "source": [
        "plt.imshow(images[2].reshape((48,48)))\n"
      ],
      "execution_count": 17,
      "outputs": [
        {
          "output_type": "execute_result",
          "data": {
            "text/plain": [
              "<matplotlib.image.AxesImage at 0x7fd7f0416a20>"
            ]
          },
          "metadata": {
            "tags": []
          },
          "execution_count": 17
        },
        {
          "output_type": "display_data",
          "data": {
            "image/png": "[encoded data removed]",
            "text/plain": [
              "<matplotlib.figure.Figure at 0x7fd7f0856c18>"
            ]
          },
          "metadata": {
            "tags": []
          }
        }
      ]
    },
    {
      "metadata": {
        "id": "Xez6GDAITEBI",
        "colab_type": "code",
        "colab": {}
      },
      "cell_type": "code",
      "source": [
        "images_test=[]\n",
        "\n",
        "for i in range(len(X_test)):\n",
        "    image_string = X_test[i]\n",
        "    image = [int(x) for x in image_string.split()]\n",
        "    image=np.array(image,dtype='float32')\n",
        "    image=image.reshape((48,48,1))\n",
        "    images_test.append(image)"
      ],
      "execution_count": 0,
      "outputs": []
    },
    {
      "metadata": {
        "id": "080VhB7YTHxD",
        "colab_type": "code",
        "colab": {}
      },
      "cell_type": "code",
      "source": [
        "def convert_to_one_hot(Y, C):\n",
        "    Y = np.eye(C)[Y.reshape(-1)]\n",
        "    return Y"
      ],
      "execution_count": 0,
      "outputs": []
    },
    {
      "metadata": {
        "id": "x2wfk74MTJ4T",
        "colab_type": "code",
        "colab": {
          "base_uri": "https://localhost:8080/",
          "height": 70
        },
        "outputId": "d1e6acde-27b8-48f0-a65c-a5bc41fe2ca2"
      },
      "cell_type": "code",
      "source": [
        "y_train_hot=convert_to_one_hot(y_train,7)"
      ],
      "execution_count": 20,
      "outputs": [
        {
          "output_type": "stream",
          "text": [
            "/usr/local/lib/python3.6/dist-packages/ipykernel_launcher.py:2: FutureWarning: reshape is deprecated and will raise in a subsequent release. Please use .values.reshape(...) instead\n",
            "  \n"
          ],
          "name": "stderr"
        }
      ]
    },
    {
      "metadata": {
        "id": "y6q9Hwu_TMTs",
        "colab_type": "code",
        "colab": {
          "base_uri": "https://localhost:8080/",
          "height": 70
        },
        "outputId": "b0df8861-9f30-43b2-96f9-af044af252a3"
      },
      "cell_type": "code",
      "source": [
        "y_test_hot=convert_to_one_hot(y_test,7)"
      ],
      "execution_count": 21,
      "outputs": [
        {
          "output_type": "stream",
          "text": [
            "/usr/local/lib/python3.6/dist-packages/ipykernel_launcher.py:2: FutureWarning: reshape is deprecated and will raise in a subsequent release. Please use .values.reshape(...) instead\n",
            "  \n"
          ],
          "name": "stderr"
        }
      ]
    },
    {
      "metadata": {
        "id": "26p-9xFZTOhL",
        "colab_type": "code",
        "colab": {}
      },
      "cell_type": "code",
      "source": [
        "images_train=np.array(images)\n"
      ],
      "execution_count": 0,
      "outputs": []
    },
    {
      "metadata": {
        "id": "h1UZXDeMTV6q",
        "colab_type": "code",
        "colab": {}
      },
      "cell_type": "code",
      "source": [
        "images_test=np.array(images_test)\n"
      ],
      "execution_count": 0,
      "outputs": []
    },
    {
      "metadata": {
        "id": "1mTu6EBTTYsL",
        "colab_type": "code",
        "colab": {
          "base_uri": "https://localhost:8080/",
          "height": 34
        },
        "outputId": "a03c1801-c4fe-4eb6-9387-57ef3a2eb7fd"
      },
      "cell_type": "code",
      "source": [
        "images=np.array(images)\n",
        "images_test=np.array(images_test)\n",
        "images_test.reshape((10767,2304)).shape"
      ],
      "execution_count": 24,
      "outputs": [
        {
          "output_type": "execute_result",
          "data": {
            "text/plain": [
              "(10767, 2304)"
            ]
          },
          "metadata": {
            "tags": []
          },
          "execution_count": 24
        }
      ]
    },
    {
      "metadata": {
        "id": "2SxZO5ZvTbmy",
        "colab_type": "code",
        "colab": {
          "base_uri": "https://localhost:8080/",
          "height": 34
        },
        "outputId": "61f1cfd4-9fc0-4369-a0fd-f4ae6bee6168"
      },
      "cell_type": "code",
      "source": [
        "images_test.shape"
      ],
      "execution_count": 25,
      "outputs": [
        {
          "output_type": "execute_result",
          "data": {
            "text/plain": [
              "(10767, 48, 48, 1)"
            ]
          },
          "metadata": {
            "tags": []
          },
          "execution_count": 25
        }
      ]
    },
    {
      "metadata": {
        "id": "kULcIKr4yHKO",
        "colab_type": "text"
      },
      "cell_type": "markdown",
      "source": [
        "## Model Architecture"
      ]
    },
    {
      "metadata": {
        "id": "V_4Xv8UfTeSA",
        "colab_type": "code",
        "colab": {}
      },
      "cell_type": "code",
      "source": [
        "model = Sequential()\n",
        "#layer1\n",
        "\n",
        "model.add(Conv2D(64, (3, 3),padding = \"same\", activation='relu', input_shape=(48, 48, 1)))\n",
        "model.add(BatchNormalization())\n",
        "model.add(MaxPooling2D(pool_size=(2, 2)))\n",
        "model.add(Dropout(0.125))\n",
        "\n",
        "#layer2\n",
        "\n",
        "model.add(Conv2D(128, (5, 5), activation='relu',padding = \"same\"))\n",
        "model.add(BatchNormalization())\n",
        "model.add(MaxPooling2D(pool_size=(2, 2)))\n",
        "model.add(Dropout(0.125))\n",
        "\n",
        "#layer3\n",
        "\n",
        "model.add(Conv2D(512, (3, 3), activation='relu',padding = \"same\"))\n",
        "model.add(BatchNormalization())\n",
        "model.add(MaxPooling2D(pool_size=(2, 2)))\n",
        "model.add(Dropout(0.125))\n",
        "\n",
        "#layer4\n",
        "\n",
        "model.add(Conv2D(512, (3, 3), activation='relu',padding = \"same\"))\n",
        "model.add(BatchNormalization())\n",
        "model.add(MaxPooling2D(pool_size=(2, 2)))\n",
        "model.add(Dropout(0.25))\n",
        "\n",
        "#FC1\n",
        "\n",
        "model.add(Flatten())\n",
        "model.add(Dense(256, activation='relu'))\n",
        "model.add(BatchNormalization())\n",
        "model.add(Dropout(0.125))\n",
        "\n",
        "#FC2\n",
        "\n",
        "model.add(Dense(512, activation='relu'))\n",
        "model.add(BatchNormalization())\n",
        "model.add(Dropout(0.5))\n",
        "\n",
        "\n",
        "#FC3\n",
        "\n",
        "model.add(Dense(7, activation='softmax'))\n",
        "\n"
      ],
      "execution_count": 0,
      "outputs": []
    },
    {
      "metadata": {
        "id": "SB-ajjrVYeln",
        "colab_type": "code",
        "colab": {}
      },
      "cell_type": "code",
      "source": [
        "model.compile(loss='categorical_crossentropy', optimizer=keras.optimizers.RMSprop(lr=0.001, rho=0.9, epsilon=None, decay=0.0),metrics = [\"accuracy\"])"
      ],
      "execution_count": 0,
      "outputs": []
    },
    {
      "metadata": {
        "id": "0suR4AF2yQAt",
        "colab_type": "text"
      },
      "cell_type": "markdown",
      "source": [
        "## Summary of Model Architecture"
      ]
    },
    {
      "metadata": {
        "id": "WPVjC3hjZZuy",
        "colab_type": "code",
        "colab": {
          "base_uri": "https://localhost:8080/",
          "height": 941
        },
        "outputId": "279a9934-b7d6-4d30-d279-028dad4c912e"
      },
      "cell_type": "code",
      "source": [
        "model.summary()"
      ],
      "execution_count": 31,
      "outputs": [
        {
          "output_type": "stream",
          "text": [
            "_________________________________________________________________\n",
            "Layer (type)                 Output Shape              Param #   \n",
            "=================================================================\n",
            "conv2d_5 (Conv2D)            (None, 48, 48, 64)        640       \n",
            "_________________________________________________________________\n",
            "batch_normalization_7 (Batch (None, 48, 48, 64)        256       \n",
            "_________________________________________________________________\n",
            "max_pooling2d_5 (MaxPooling2 (None, 24, 24, 64)        0         \n",
            "_________________________________________________________________\n",
            "dropout_7 (Dropout)          (None, 24, 24, 64)        0         \n",
            "_________________________________________________________________\n",
            "conv2d_6 (Conv2D)            (None, 24, 24, 128)       204928    \n",
            "_________________________________________________________________\n",
            "batch_normalization_8 (Batch (None, 24, 24, 128)       512       \n",
            "_________________________________________________________________\n",
            "max_pooling2d_6 (MaxPooling2 (None, 12, 12, 128)       0         \n",
            "_________________________________________________________________\n",
            "dropout_8 (Dropout)          (None, 12, 12, 128)       0         \n",
            "_________________________________________________________________\n",
            "conv2d_7 (Conv2D)            (None, 12, 12, 512)       590336    \n",
            "_________________________________________________________________\n",
            "batch_normalization_9 (Batch (None, 12, 12, 512)       2048      \n",
            "_________________________________________________________________\n",
            "max_pooling2d_7 (MaxPooling2 (None, 6, 6, 512)         0         \n",
            "_________________________________________________________________\n",
            "dropout_9 (Dropout)          (None, 6, 6, 512)         0         \n",
            "_________________________________________________________________\n",
            "conv2d_8 (Conv2D)            (None, 6, 6, 512)         2359808   \n",
            "_________________________________________________________________\n",
            "batch_normalization_10 (Batc (None, 6, 6, 512)         2048      \n",
            "_________________________________________________________________\n",
            "max_pooling2d_8 (MaxPooling2 (None, 3, 3, 512)         0         \n",
            "_________________________________________________________________\n",
            "dropout_10 (Dropout)         (None, 3, 3, 512)         0         \n",
            "_________________________________________________________________\n",
            "flatten_2 (Flatten)          (None, 4608)              0         \n",
            "_________________________________________________________________\n",
            "dense_4 (Dense)              (None, 256)               1179904   \n",
            "_________________________________________________________________\n",
            "batch_normalization_11 (Batc (None, 256)               1024      \n",
            "_________________________________________________________________\n",
            "dropout_11 (Dropout)         (None, 256)               0         \n",
            "_________________________________________________________________\n",
            "dense_5 (Dense)              (None, 512)               131584    \n",
            "_________________________________________________________________\n",
            "batch_normalization_12 (Batc (None, 512)               2048      \n",
            "_________________________________________________________________\n",
            "dropout_12 (Dropout)         (None, 512)               0         \n",
            "_________________________________________________________________\n",
            "dense_6 (Dense)              (None, 7)                 3591      \n",
            "=================================================================\n",
            "Total params: 4,478,727\n",
            "Trainable params: 4,474,759\n",
            "Non-trainable params: 3,968\n",
            "_________________________________________________________________\n"
          ],
          "name": "stdout"
        }
      ]
    },
    {
      "metadata": {
        "id": "niStmIT-yjPh",
        "colab_type": "text"
      },
      "cell_type": "markdown",
      "source": [
        "## Training"
      ]
    },
    {
      "metadata": {
        "id": "XaGQ7VaMZcza",
        "colab_type": "code",
        "colab": {
          "base_uri": "https://localhost:8080/",
          "height": 1193
        },
        "outputId": "aca807fe-4240-43e5-c0d7-ffec210124e5"
      },
      "cell_type": "code",
      "source": [
        "history=model.fit(images_train, y_train_hot, epochs=35, verbose=1, batch_size=128,\n",
        "                                    initial_epoch=0, shuffle=False)\n"
      ],
      "execution_count": 32,
      "outputs": [
        {
          "output_type": "stream",
          "text": [
            "Epoch 1/35\n",
            "25120/25120 [==============================] - 28s 1ms/step - loss: 2.1214 - acc: 0.2863\n",
            "Epoch 2/35\n",
            "25120/25120 [==============================] - 23s 901us/step - loss: 1.5344 - acc: 0.4501\n",
            "Epoch 3/35\n",
            "25120/25120 [==============================] - 23s 899us/step - loss: 1.3172 - acc: 0.5230\n",
            "Epoch 4/35\n",
            "25120/25120 [==============================] - 23s 898us/step - loss: 1.1675 - acc: 0.5742\n",
            "Epoch 5/35\n",
            "25120/25120 [==============================] - 23s 897us/step - loss: 1.0158 - acc: 0.6249\n",
            "Epoch 6/35\n",
            "25120/25120 [==============================] - 23s 896us/step - loss: 0.8787 - acc: 0.6785\n",
            "Epoch 7/35\n",
            "25120/25120 [==============================] - 23s 896us/step - loss: 0.7574 - acc: 0.7224\n",
            "Epoch 8/35\n",
            "25120/25120 [==============================] - 23s 896us/step - loss: 0.6308 - acc: 0.7713\n",
            "Epoch 9/35\n",
            "25120/25120 [==============================] - 23s 896us/step - loss: 0.5288 - acc: 0.8115\n",
            "Epoch 10/35\n",
            "25120/25120 [==============================] - 23s 896us/step - loss: 0.4491 - acc: 0.8410\n",
            "Epoch 11/35\n",
            "25120/25120 [==============================] - 22s 896us/step - loss: 0.3889 - acc: 0.8624\n",
            "Epoch 12/35\n",
            "25120/25120 [==============================] - 22s 894us/step - loss: 0.3519 - acc: 0.8754\n",
            "Epoch 13/35\n",
            "25120/25120 [==============================] - 22s 895us/step - loss: 0.2981 - acc: 0.8949\n",
            "Epoch 14/35\n",
            "25120/25120 [==============================] - 23s 896us/step - loss: 0.2684 - acc: 0.9056\n",
            "Epoch 15/35\n",
            "25120/25120 [==============================] - 22s 894us/step - loss: 0.2491 - acc: 0.9135\n",
            "Epoch 16/35\n",
            "25120/25120 [==============================] - 22s 895us/step - loss: 0.2236 - acc: 0.9227\n",
            "Epoch 17/35\n",
            "25120/25120 [==============================] - 22s 895us/step - loss: 0.2140 - acc: 0.9278\n",
            "Epoch 18/35\n",
            "25120/25120 [==============================] - 22s 894us/step - loss: 0.1970 - acc: 0.9332\n",
            "Epoch 19/35\n",
            "25120/25120 [==============================] - 22s 895us/step - loss: 0.1797 - acc: 0.9396\n",
            "Epoch 20/35\n",
            "25120/25120 [==============================] - 22s 893us/step - loss: 0.1706 - acc: 0.9424\n",
            "Epoch 21/35\n",
            "25120/25120 [==============================] - 22s 895us/step - loss: 0.1525 - acc: 0.9494\n",
            "Epoch 22/35\n",
            "25120/25120 [==============================] - 22s 895us/step - loss: 0.1575 - acc: 0.9475\n",
            "Epoch 23/35\n",
            "25120/25120 [==============================] - 22s 893us/step - loss: 0.1460 - acc: 0.9505\n",
            "Epoch 24/35\n",
            "25120/25120 [==============================] - 23s 896us/step - loss: 0.1314 - acc: 0.9547\n",
            "Epoch 25/35\n",
            "25120/25120 [==============================] - 22s 895us/step - loss: 0.1392 - acc: 0.9526\n",
            "Epoch 26/35\n",
            "25120/25120 [==============================] - 22s 894us/step - loss: 0.1279 - acc: 0.9563\n",
            "Epoch 27/35\n",
            "25120/25120 [==============================] - 22s 896us/step - loss: 0.1209 - acc: 0.9603\n",
            "Epoch 28/35\n",
            "25120/25120 [==============================] - 22s 895us/step - loss: 0.1223 - acc: 0.9582\n",
            "Epoch 29/35\n",
            "25120/25120 [==============================] - 22s 895us/step - loss: 0.1155 - acc: 0.9620\n",
            "Epoch 30/35\n",
            "25120/25120 [==============================] - 23s 896us/step - loss: 0.1083 - acc: 0.9642\n",
            "Epoch 31/35\n",
            "25120/25120 [==============================] - 22s 895us/step - loss: 0.1035 - acc: 0.9655\n",
            "Epoch 32/35\n",
            "25120/25120 [==============================] - 22s 896us/step - loss: 0.1019 - acc: 0.9649\n",
            "Epoch 33/35\n",
            "25120/25120 [==============================] - 22s 895us/step - loss: 0.0973 - acc: 0.9674\n",
            "Epoch 34/35\n",
            "25120/25120 [==============================] - 23s 896us/step - loss: 0.0936 - acc: 0.9685\n",
            "Epoch 35/35\n",
            "25120/25120 [==============================] - 23s 896us/step - loss: 0.0945 - acc: 0.9698\n"
          ],
          "name": "stdout"
        }
      ]
    },
    {
      "metadata": {
        "id": "Qoda8ZP9y5_1",
        "colab_type": "text"
      },
      "cell_type": "markdown",
      "source": [
        "#  Helper Functions"
      ]
    },
    {
      "metadata": {
        "id": "ITLNuXJmzAev",
        "colab_type": "text"
      },
      "cell_type": "markdown",
      "source": [
        "### For Plotting Accuracy"
      ]
    },
    {
      "metadata": {
        "id": "F7wKJotWbveJ",
        "colab_type": "code",
        "colab": {}
      },
      "cell_type": "code",
      "source": [
        "\n",
        "def plot_accuracy(history):\n",
        "  plt.figure(figsize = (15,5))\n",
        "  plt.plot(history.history['acc'])\n",
        "  plt.title('Model accuracy')\n",
        "  plt.ylabel('Accuracy')\n",
        "  plt.xlabel('Epoch')\n",
        "  plt.legend(['Train', 'Test'], loc='upper left')\n",
        "  plt.show()\n",
        "  \n",
        "  # Plot training & validation loss values\n",
        "  plt.figure(figsize=(15,5))\n",
        "  plt.plot(history.history['loss'])\n",
        "  plt.title('Model loss')\n",
        "  plt.ylabel('Loss')\n",
        "  plt.xlabel('Epoch')\n",
        "  plt.legend(['Train', 'Test'], loc='upper left')\n",
        "  plt.show()\n",
        "  "
      ],
      "execution_count": 0,
      "outputs": []
    },
    {
      "metadata": {
        "id": "pob725VM0NCv",
        "colab_type": "text"
      },
      "cell_type": "markdown",
      "source": [
        "### Accuracy and Saving the Model"
      ]
    },
    {
      "metadata": {
        "id": "ZMFnXxcncEIo",
        "colab_type": "code",
        "colab": {}
      },
      "cell_type": "code",
      "source": [
        "def model_accuracy(x_test,y_test):\n",
        "  scores = model.evaluate(images_test, y_test_hot, verbose=2)\n",
        "  print(scores[1]*100,\"%\")"
      ],
      "execution_count": 0,
      "outputs": []
    },
    {
      "metadata": {
        "id": "uTrbltY89Fqr",
        "colab_type": "code",
        "colab": {}
      },
      "cell_type": "code",
      "source": [
        ""
      ],
      "execution_count": 0,
      "outputs": []
    },
    {
      "metadata": {
        "id": "wZ_GZegHpyxe",
        "colab_type": "code",
        "colab": {}
      },
      "cell_type": "code",
      "source": [
        "def save_model(model):\n",
        "  model.save_weights(\"keras1.hdf5\",overwrite=True)"
      ],
      "execution_count": 0,
      "outputs": []
    },
    {
      "metadata": {
        "id": "JaPwIvUbVJne",
        "colab_type": "code",
        "colab": {
          "base_uri": "https://localhost:8080/",
          "height": 34
        },
        "outputId": "c4531c51-0d1d-468e-b714-cd1ad555c17c"
      },
      "cell_type": "code",
      "source": [
        "y_predict = model.predict_classes(images_test, verbose=1)"
      ],
      "execution_count": 36,
      "outputs": [
        {
          "output_type": "stream",
          "text": [
            "10767/10767 [==============================] - 5s 420us/step\n"
          ],
          "name": "stdout"
        }
      ]
    },
    {
      "metadata": {
        "id": "ZjDJaQsZkJxZ",
        "colab_type": "code",
        "colab": {}
      },
      "cell_type": "code",
      "source": [
        "y_test =np.array(y_test)"
      ],
      "execution_count": 0,
      "outputs": []
    },
    {
      "metadata": {
        "id": "V3gIWOF2l_EJ",
        "colab_type": "code",
        "colab": {}
      },
      "cell_type": "code",
      "source": [
        "cm = confusion_matrix(y_target=y_test, y_predicted=y_predict)"
      ],
      "execution_count": 0,
      "outputs": []
    },
    {
      "metadata": {
        "id": "SoPkBy8tzSbo",
        "colab_type": "text"
      },
      "cell_type": "markdown",
      "source": [
        "### For Plotting Confusion Matrix"
      ]
    },
    {
      "metadata": {
        "id": "q0EQBEiUqpFF",
        "colab_type": "code",
        "colab": {}
      },
      "cell_type": "code",
      "source": [
        "def plot_cm(cm):\n",
        "  plt.figure(figsize=(10,5))\n",
        "  column = [\"Angry\",\"Disgust\",\"Fear\",\"Happy\",\"Sad\",\"Surprise\",\"Neutral\"]\n",
        "  df_cm = pd.DataFrame(cm, index=column,columns=column)\n",
        "  ax = sns.heatmap(df_cm, cmap='Oranges', annot=True,fmt='g',cbar=False,linewidths=2)"
      ],
      "execution_count": 0,
      "outputs": []
    },
    {
      "metadata": {
        "id": "jzr7PoMuq_Hp",
        "colab_type": "code",
        "colab": {
          "base_uri": "https://localhost:8080/",
          "height": 320
        },
        "outputId": "073465a8-aadb-47f3-f037-8e2149840bd1"
      },
      "cell_type": "code",
      "source": [
        "plot_cm(cm)"
      ],
      "execution_count": 40,
      "outputs": [
        {
          "output_type": "display_data",
          "data": {
            "image/png": "[encoded data removed]",
            "text/plain": [
              "<matplotlib.figure.Figure at 0x7fd7e5d55cc0>"
            ]
          },
          "metadata": {
            "tags": []
          }
        }
      ]
    },
    {
      "metadata": {
        "id": "HIGoZ4-hs2JY",
        "colab_type": "code",
        "colab": {
          "base_uri": "https://localhost:8080/",
          "height": 681
        },
        "outputId": "540b0fe8-939a-4083-da99-cb8b922e7ac1"
      },
      "cell_type": "code",
      "source": [
        "plot_accuracy(history)"
      ],
      "execution_count": 41,
      "outputs": [
        {
          "output_type": "display_data",
          "data": {
            "image/png": "[encoded data removed]",
            "text/plain": [
              "<matplotlib.figure.Figure at 0x7fd7f03e19e8>"
            ]
          },
          "metadata": {
            "tags": []
          }
        },
        {
          "output_type": "display_data",
          "data": {
            "image/png": "[encoded data removed]",
            "text/plain": [
              "<matplotlib.figure.Figure at 0x7fd7e5cdfef0>"
            ]
          },
          "metadata": {
            "tags": []
          }
        }
      ]
    },
    {
      "metadata": {
        "id": "AEEkK97hzxzl",
        "colab_type": "code",
        "colab": {
          "base_uri": "https://localhost:8080/",
          "height": 34
        },
        "outputId": "9a91d8d8-88c9-4b53-9e12-b47cff2390db"
      },
      "cell_type": "code",
      "source": [
        "model_accuracy(images_test,y_test_hot)"
      ],
      "execution_count": 42,
      "outputs": [
        {
          "output_type": "stream",
          "text": [
            "57.44404198399956 %\n"
          ],
          "name": "stdout"
        }
      ]
    },
    {
      "metadata": {
        "id": "wJfNMUCQz5ZU",
        "colab_type": "code",
        "colab": {}
      },
      "cell_type": "code",
      "source": [
        ""
      ],
      "execution_count": 0,
      "outputs": []
    }
  ]
}