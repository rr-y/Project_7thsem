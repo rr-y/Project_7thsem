{
  "nbformat": 4,
  "nbformat_minor": 0,
  "metadata": {
    "colab": {
      "name": "Keras.ipynb",
      "version": "0.3.2",
      "provenance": [],
      "include_colab_link": true
    },
    "kernelspec": {
      "name": "python3",
      "display_name": "Python 3"
    },
    "accelerator": "GPU"
  },
  "cells": [
    {
      "cell_type": "markdown",
      "metadata": {
        "id": "view-in-github",
        "colab_type": "text"
      },
      "source": [
        "<a href=\"https://colab.research.google.com/github/rr-y/Project_7thsem/blob/master/Keras2_ferufe.ipynb\" target=\"_parent\"><img src=\"https://colab.research.google.com/assets/colab-badge.svg\" alt=\"Open In Colab\"/></a>"
      ]
    },
    {
      "metadata": {
        "id": "I2JPMfJDJ_ei",
        "colab_type": "code",
        "colab": {}
      },
      "cell_type": "code",
      "source": [
        "#import cv2\n",
        "import time\n",
        "import sys\n",
        "import os\n",
        "#import glob\n",
        "from PIL import Image\n",
        "import tensorflow as tf\n",
        "import numpy as np\n",
        "import pandas as pd\n",
        "import matplotlib.pyplot as plt\n",
        "import seaborn as sns\n",
        "from keras.layers.normalization import BatchNormalization\n",
        "from mlxtend.evaluate import confusion_matrix \n",
        "from mlxtend.plotting import plot_confusion_matrix\n",
        "\n",
        "from keras import metrics\n",
        "\n",
        "%matplotlib inline\n",
        "\n"
      ],
      "execution_count": 0,
      "outputs": []
    },
    {
      "metadata": {
        "id": "TbBVlsIdRZVI",
        "colab_type": "code",
        "colab": {}
      },
      "cell_type": "code",
      "source": [
        "from keras.models import Sequential\n",
        "from keras.layers import Dense, Dropout, Flatten\n",
        "from keras.layers import Conv2D, MaxPooling2D\n",
        "from sklearn.model_selection import GridSearchCV\n"
      ],
      "execution_count": 0,
      "outputs": []
    },
    {
      "metadata": {
        "id": "G22mp1LG8ZKM",
        "colab_type": "code",
        "colab": {
          "base_uri": "https://localhost:8080/",
          "height": 306
        },
        "outputId": "751004b7-ccdc-403f-f3dc-768e178a131e"
      },
      "cell_type": "code",
      "source": [
        "!pip install mlxtend"
      ],
      "execution_count": 64,
      "outputs": [
        {
          "output_type": "stream",
          "text": [
            "Collecting mlxtend\n",
            "\u001b[?25l  Downloading https://files.pythonhosted.org/packages/44/d1/1b9e85e991f836e9aaea18367ff628a6324af1005971dc9f57e51a2ab5a4/mlxtend-0.14.0-py2.py3-none-any.whl (1.3MB)\n",
            "\r\u001b[K    0% |▎                               | 10kB 18.5MB/s eta 0:00:01\r\u001b[K    1% |▌                               | 20kB 3.5MB/s eta 0:00:01\r\u001b[K    2% |▊                               | 30kB 5.1MB/s eta 0:00:01\r\u001b[K    3% |█                               | 40kB 3.6MB/s eta 0:00:01\r\u001b[K    3% |█▎                              | 51kB 4.4MB/s eta 0:00:01\r\u001b[K    4% |█▌                              | 61kB 5.2MB/s eta 0:00:01\r\u001b[K    5% |█▊                              | 71kB 5.9MB/s eta 0:00:01\r\u001b[K    6% |██                              | 81kB 6.6MB/s eta 0:00:01\r\u001b[K    7% |██▎                             | 92kB 7.3MB/s eta 0:00:01\r\u001b[K    7% |██▌                             | 102kB 6.1MB/s eta 0:00:01\r\u001b[K    8% |██▊                             | 112kB 6.2MB/s eta 0:00:01\r\u001b[K    9% |███                             | 122kB 8.8MB/s eta 0:00:01\r\u001b[K    10% |███▎                            | 133kB 8.7MB/s eta 0:00:01\r\u001b[K    11% |███▌                            | 143kB 15.4MB/s eta 0:00:01\r\u001b[K    11% |███▉                            | 153kB 15.5MB/s eta 0:00:01\r\u001b[K    12% |████                            | 163kB 15.6MB/s eta 0:00:01\r\u001b[K    13% |████▎                           | 174kB 15.9MB/s eta 0:00:01\r\u001b[K    14% |████▌                           | 184kB 16.0MB/s eta 0:00:01\r\u001b[K    14% |████▉                           | 194kB 16.0MB/s eta 0:00:01\r\u001b[K    15% |█████                           | 204kB 40.2MB/s eta 0:00:01\r\u001b[K    16% |█████▎                          | 215kB 19.9MB/s eta 0:00:01\r\u001b[K    17% |█████▌                          | 225kB 20.0MB/s eta 0:00:01\r\u001b[K    18% |█████▉                          | 235kB 20.9MB/s eta 0:00:01\r\u001b[K    18% |██████                          | 245kB 20.7MB/s eta 0:00:01\r\u001b[K    19% |██████▎                         | 256kB 20.9MB/s eta 0:00:01\r\u001b[K    20% |██████▌                         | 266kB 19.6MB/s eta 0:00:01\r\u001b[K    21% |██████▉                         | 276kB 19.9MB/s eta 0:00:01\r\u001b[K    22% |███████                         | 286kB 20.1MB/s eta 0:00:01\r\u001b[K    22% |███████▎                        | 296kB 20.1MB/s eta 0:00:01\r\u001b[K    23% |███████▋                        | 307kB 20.7MB/s eta 0:00:01\r\u001b[K    24% |███████▉                        | 317kB 46.3MB/s eta 0:00:01\r\u001b[K    25% |████████                        | 327kB 19.4MB/s eta 0:00:01\r\u001b[K    25% |████████▎                       | 337kB 19.4MB/s eta 0:00:01\r\u001b[K    26% |████████▋                       | 348kB 18.4MB/s eta 0:00:01\r\u001b[K    27% |████████▉                       | 358kB 18.4MB/s eta 0:00:01\r\u001b[K    28% |█████████                       | 368kB 19.6MB/s eta 0:00:01\r\u001b[K    29% |█████████▎                      | 378kB 19.6MB/s eta 0:00:01\r\u001b[K    29% |█████████▋                      | 389kB 19.5MB/s eta 0:00:01\r\u001b[K    30% |█████████▉                      | 399kB 19.4MB/s eta 0:00:01\r\u001b[K    31% |██████████                      | 409kB 19.4MB/s eta 0:00:01\r\u001b[K    32% |██████████▎                     | 419kB 19.4MB/s eta 0:00:01\r\u001b[K    33% |██████████▋                     | 430kB 46.1MB/s eta 0:00:01\r\u001b[K    33% |██████████▉                     | 440kB 45.2MB/s eta 0:00:01\r\u001b[K    34% |███████████                     | 450kB 49.8MB/s eta 0:00:01\r\u001b[K    35% |███████████▍                    | 460kB 50.1MB/s eta 0:00:01\r\u001b[K    36% |███████████▋                    | 471kB 50.4MB/s eta 0:00:01\r\u001b[K    37% |███████████▉                    | 481kB 51.1MB/s eta 0:00:01\r\u001b[K    37% |████████████                    | 491kB 25.6MB/s eta 0:00:01\r\u001b[K    38% |████████████▍                   | 501kB 25.8MB/s eta 0:00:01\r\u001b[K    39% |████████████▋                   | 512kB 24.5MB/s eta 0:00:01\r\u001b[K    40% |████████████▉                   | 522kB 24.4MB/s eta 0:00:01\r\u001b[K    40% |█████████████                   | 532kB 24.4MB/s eta 0:00:01\r\u001b[K    41% |█████████████▍                  | 542kB 24.7MB/s eta 0:00:01\r\u001b[K    42% |█████████████▋                  | 552kB 25.5MB/s eta 0:00:01\r\u001b[K    43% |█████████████▉                  | 563kB 25.4MB/s eta 0:00:01\r\u001b[K    44% |██████████████                  | 573kB 25.2MB/s eta 0:00:01\r\u001b[K    44% |██████████████▍                 | 583kB 25.3MB/s eta 0:00:01\r\u001b[K    45% |██████████████▋                 | 593kB 49.5MB/s eta 0:00:01\r\u001b[K    46% |██████████████▉                 | 604kB 48.7MB/s eta 0:00:01\r\u001b[K    47% |███████████████▏                | 614kB 54.9MB/s eta 0:00:01\r\u001b[K    48% |███████████████▍                | 624kB 55.0MB/s eta 0:00:01\r\u001b[K    48% |███████████████▋                | 634kB 55.5MB/s eta 0:00:01\r\u001b[K    49% |███████████████▉                | 645kB 55.1MB/s eta 0:00:01\r\u001b[K    50% |████████████████▏               | 655kB 54.4MB/s eta 0:00:01\r\u001b[K    51% |████████████████▍               | 665kB 41.5MB/s eta 0:00:01\r\u001b[K    51% |████████████████▋               | 675kB 42.0MB/s eta 0:00:01\r\u001b[K    52% |████████████████▉               | 686kB 41.7MB/s eta 0:00:01\r\u001b[K    53% |█████████████████▏              | 696kB 42.8MB/s eta 0:00:01\r\u001b[K    54% |█████████████████▍              | 706kB 43.0MB/s eta 0:00:01\r\u001b[K    55% |█████████████████▋              | 716kB 43.6MB/s eta 0:00:01\r\u001b[K    55% |█████████████████▉              | 727kB 43.5MB/s eta 0:00:01\r\u001b[K    56% |██████████████████▏             | 737kB 42.9MB/s eta 0:00:01\r\u001b[K    57% |██████████████████▍             | 747kB 43.7MB/s eta 0:00:01\r\u001b[K    58% |██████████████████▋             | 757kB 43.2MB/s eta 0:00:01\r\u001b[K    59% |███████████████████             | 768kB 57.0MB/s eta 0:00:01\r\u001b[K    59% |███████████████████▏            | 778kB 57.2MB/s eta 0:00:01\r\u001b[K    60% |███████████████████▍            | 788kB 56.0MB/s eta 0:00:01\r\u001b[K    61% |███████████████████▋            | 798kB 55.4MB/s eta 0:00:01\r\u001b[K    62% |████████████████████            | 808kB 55.2MB/s eta 0:00:01\r\u001b[K    62% |████████████████████▏           | 819kB 53.9MB/s eta 0:00:01\r\u001b[K    63% |████████████████████▍           | 829kB 55.0MB/s eta 0:00:01\r\u001b[K    64% |████████████████████▋           | 839kB 50.1MB/s eta 0:00:01\r\u001b[K    65% |█████████████████████           | 849kB 48.4MB/s eta 0:00:01\r\u001b[K    66% |█████████████████████▏          | 860kB 44.3MB/s eta 0:00:01\r\u001b[K    66% |█████████████████████▍          | 870kB 43.5MB/s eta 0:00:01\r\u001b[K    67% |█████████████████████▋          | 880kB 43.6MB/s eta 0:00:01\r\u001b[K    68% |██████████████████████          | 890kB 44.4MB/s eta 0:00:01\r\u001b[K    69% |██████████████████████▏         | 901kB 42.1MB/s eta 0:00:01\r\u001b[K    70% |██████████████████████▍         | 911kB 42.4MB/s eta 0:00:01\r\u001b[K    70% |██████████████████████▊         | 921kB 42.4MB/s eta 0:00:01\r\u001b[K    71% |███████████████████████         | 931kB 42.2MB/s eta 0:00:01\r\u001b[K    72% |███████████████████████▏        | 942kB 46.5MB/s eta 0:00:01\r\u001b[K    73% |███████████████████████▍        | 952kB 47.4MB/s eta 0:00:01\r\u001b[K    74% |███████████████████████▊        | 962kB 53.7MB/s eta 0:00:01\r\u001b[K    74% |████████████████████████        | 972kB 54.5MB/s eta 0:00:01\r\u001b[K    75% |████████████████████████▏       | 983kB 54.1MB/s eta 0:00:01\r\u001b[K    76% |████████████████████████▍       | 993kB 54.8MB/s eta 0:00:01\r\u001b[K    77% |████████████████████████▊       | 1.0MB 58.9MB/s eta 0:00:01\r\u001b[K    77% |█████████████████████████       | 1.0MB 57.9MB/s eta 0:00:01\r\u001b[K    78% |█████████████████████████▏      | 1.0MB 59.9MB/s eta 0:00:01\r\u001b[K    79% |█████████████████████████▍      | 1.0MB 58.1MB/s eta 0:00:01\r\u001b[K    80% |█████████████████████████▊      | 1.0MB 58.0MB/s eta 0:00:01\r\u001b[K    81% |██████████████████████████      | 1.1MB 58.7MB/s eta 0:00:01\r\u001b[K    81% |██████████████████████████▏     | 1.1MB 52.2MB/s eta 0:00:01\r\u001b[K    82% |██████████████████████████▌     | 1.1MB 53.6MB/s eta 0:00:01\r\u001b[K    83% |██████████████████████████▊     | 1.1MB 51.7MB/s eta 0:00:01\r\u001b[K    84% |███████████████████████████     | 1.1MB 44.2MB/s eta 0:00:01\r\u001b[K    85% |███████████████████████████▏    | 1.1MB 44.4MB/s eta 0:00:01\r\u001b[K    85% |███████████████████████████▌    | 1.1MB 44.3MB/s eta 0:00:01\r\u001b[K    86% |███████████████████████████▊    | 1.1MB 44.0MB/s eta 0:00:01\r\u001b[K    87% |████████████████████████████    | 1.1MB 45.0MB/s eta 0:00:01\r\u001b[K    88% |████████████████████████████▏   | 1.1MB 44.2MB/s eta 0:00:01\r\u001b[K    88% |████████████████████████████▌   | 1.2MB 44.2MB/s eta 0:00:01\r\u001b[K    89% |████████████████████████████▊   | 1.2MB 48.3MB/s eta 0:00:01\r\u001b[K    90% |█████████████████████████████   | 1.2MB 47.1MB/s eta 0:00:01\r\u001b[K    91% |█████████████████████████████▎  | 1.2MB 48.9MB/s eta 0:00:01\r\u001b[K    92% |█████████████████████████████▌  | 1.2MB 57.5MB/s eta 0:00:01\r\u001b[K    92% |█████████████████████████████▊  | 1.2MB 56.9MB/s eta 0:00:01\r\u001b[K    93% |██████████████████████████████  | 1.2MB 57.8MB/s eta 0:00:01\r\u001b[K    94% |██████████████████████████████▎ | 1.2MB 56.2MB/s eta 0:00:01\r\u001b[K    95% |██████████████████████████████▌ | 1.2MB 56.3MB/s eta 0:00:01\r\u001b[K    96% |██████████████████████████████▊ | 1.2MB 56.9MB/s eta 0:00:01\r\u001b[K    96% |███████████████████████████████ | 1.3MB 55.8MB/s eta 0:00:01\r\u001b[K    97% |███████████████████████████████▎| 1.3MB 56.0MB/s eta 0:00:01\r\u001b[K    98% |███████████████████████████████▌| 1.3MB 57.3MB/s eta 0:00:01\r\u001b[K    99% |███████████████████████████████▊| 1.3MB 56.1MB/s eta 0:00:01\r\u001b[K    99% |████████████████████████████████| 1.3MB 56.2MB/s eta 0:00:01\r\u001b[K    100% |████████████████████████████████| 1.3MB 15.8MB/s \n",
            "\u001b[?25hRequirement already satisfied: numpy>=1.10.4 in /usr/local/lib/python3.6/dist-packages (from mlxtend) (1.14.6)\n",
            "Requirement already satisfied: pandas>=0.17.1 in /usr/local/lib/python3.6/dist-packages (from mlxtend) (0.22.0)\n",
            "Requirement already satisfied: matplotlib>=1.5.1 in /usr/local/lib/python3.6/dist-packages (from mlxtend) (2.1.2)\n",
            "Requirement already satisfied: scikit-learn>=0.18 in /usr/local/lib/python3.6/dist-packages (from mlxtend) (0.19.2)\n",
            "Requirement already satisfied: setuptools in /usr/local/lib/python3.6/dist-packages (from mlxtend) (40.6.2)\n",
            "Requirement already satisfied: scipy>=0.17 in /usr/local/lib/python3.6/dist-packages (from mlxtend) (1.1.0)\n",
            "Requirement already satisfied: pytz>=2011k in /usr/local/lib/python3.6/dist-packages (from pandas>=0.17.1->mlxtend) (2018.7)\n",
            "Requirement already satisfied: python-dateutil>=2 in /usr/local/lib/python3.6/dist-packages (from pandas>=0.17.1->mlxtend) (2.5.3)\n",
            "Requirement already satisfied: six>=1.10 in /usr/local/lib/python3.6/dist-packages (from matplotlib>=1.5.1->mlxtend) (1.11.0)\n",
            "Requirement already satisfied: pyparsing!=2.0.4,!=2.1.2,!=2.1.6,>=2.0.1 in /usr/local/lib/python3.6/dist-packages (from matplotlib>=1.5.1->mlxtend) (2.3.0)\n",
            "Requirement already satisfied: cycler>=0.10 in /usr/local/lib/python3.6/dist-packages (from matplotlib>=1.5.1->mlxtend) (0.10.0)\n",
            "Installing collected packages: mlxtend\n",
            "Successfully installed mlxtend-0.14.0\n"
          ],
          "name": "stdout"
        }
      ]
    },
    {
      "metadata": {
        "id": "uJjyvGqqx19P",
        "colab_type": "text"
      },
      "cell_type": "markdown",
      "source": [
        "## Connecting Google Drive to Google Colab"
      ]
    },
    {
      "metadata": {
        "id": "Xj4thirlR01i",
        "colab_type": "code",
        "colab": {
          "base_uri": "https://localhost:8080/",
          "height": 54
        },
        "outputId": "aa5e0d96-d2d6-4e50-d199-42b4aea36851"
      },
      "cell_type": "code",
      "source": [
        "# Load the Drive helper and mount\n",
        "from google.colab import drive\n",
        "\n",
        "# This will prompt for authorization.\n",
        "drive.mount('/content/drive')"
      ],
      "execution_count": 5,
      "outputs": [
        {
          "output_type": "stream",
          "text": [
            "Drive already mounted at /content/drive; to attempt to forcibly remount, call drive.mount(\"/content/drive\", force_remount=True).\n"
          ],
          "name": "stdout"
        }
      ]
    },
    {
      "metadata": {
        "id": "8b3dQfMPpH-_",
        "colab_type": "code",
        "colab": {
          "base_uri": "https://localhost:8080/",
          "height": 34
        },
        "outputId": "57f54319-0de3-4962-e617-da10f0c7a59b"
      },
      "cell_type": "code",
      "source": [
        "cd Colab\\ Notebooks"
      ],
      "execution_count": 12,
      "outputs": [
        {
          "output_type": "stream",
          "text": [
            "/content/drive/My Drive/Colab Notebooks\n"
          ],
          "name": "stdout"
        }
      ]
    },
    {
      "metadata": {
        "id": "8vr62wMtR-X0",
        "colab_type": "code",
        "colab": {}
      },
      "cell_type": "code",
      "source": [
        "df = pd.read_csv(\"fer2013.csv\")\n"
      ],
      "execution_count": 0,
      "outputs": []
    },
    {
      "metadata": {
        "id": "1atvCsiExiFb",
        "colab_type": "text"
      },
      "cell_type": "markdown",
      "source": [
        "## Data Reading and Preprocessing"
      ]
    },
    {
      "metadata": {
        "id": "96BIPtZjnSEA",
        "colab_type": "code",
        "colab": {
          "base_uri": "https://localhost:8080/",
          "height": 34
        },
        "outputId": "4c7fe3ed-0ba8-4200-e603-7ec0c1ad9316"
      },
      "cell_type": "code",
      "source": [
        "cd Colab\\ Notebooks"
      ],
      "execution_count": 7,
      "outputs": [
        {
          "output_type": "stream",
          "text": [
            "/content/drive/My Drive/Colab Notebooks\n"
          ],
          "name": "stdout"
        }
      ]
    },
    {
      "metadata": {
        "id": "oECHxocLSoyG",
        "colab_type": "code",
        "colab": {}
      },
      "cell_type": "code",
      "source": [
        "from sklearn.model_selection import train_test_split"
      ],
      "execution_count": 0,
      "outputs": []
    },
    {
      "metadata": {
        "id": "s6J7iV1fSQXl",
        "colab_type": "code",
        "colab": {}
      },
      "cell_type": "code",
      "source": [
        "X_train, X_test, y_train, y_test = train_test_split(df['pixels'], df['emotion'], test_size=0.3, random_state=30)"
      ],
      "execution_count": 0,
      "outputs": []
    },
    {
      "metadata": {
        "id": "FLQLzPBhSl5n",
        "colab_type": "code",
        "colab": {}
      },
      "cell_type": "code",
      "source": [
        "df_train=pd.DataFrame({'index':X_train.index, 'value':X_train.values})"
      ],
      "execution_count": 0,
      "outputs": []
    },
    {
      "metadata": {
        "id": "wBiq530NSylV",
        "colab_type": "code",
        "colab": {}
      },
      "cell_type": "code",
      "source": [
        "df_test=pd.DataFrame({'index':X_test.index, 'value':X_test.values})"
      ],
      "execution_count": 0,
      "outputs": []
    },
    {
      "metadata": {
        "id": "Xk1VpHQ-S16f",
        "colab_type": "code",
        "colab": {}
      },
      "cell_type": "code",
      "source": [
        "X_train=df_train['value']"
      ],
      "execution_count": 0,
      "outputs": []
    },
    {
      "metadata": {
        "id": "9zZoTwaJS4Tf",
        "colab_type": "code",
        "colab": {}
      },
      "cell_type": "code",
      "source": [
        "X_test=df_test['value']\n"
      ],
      "execution_count": 0,
      "outputs": []
    },
    {
      "metadata": {
        "id": "HfonrL9WS6Ke",
        "colab_type": "code",
        "colab": {}
      },
      "cell_type": "code",
      "source": [
        "images=[]\n",
        "\n",
        "for i in range(len(X_train)):\n",
        "    image_string = X_train[i]\n",
        "    image = [int(x) for x in image_string.split()]\n",
        "    image=np.array(image,dtype='float32')\n",
        "    image=image.reshape((48,48,1))\n",
        "    images.append(image)"
      ],
      "execution_count": 0,
      "outputs": []
    },
    {
      "metadata": {
        "id": "1NcRits4S8WE",
        "colab_type": "code",
        "colab": {
          "base_uri": "https://localhost:8080/",
          "height": 284
        },
        "outputId": "a329add5-1c55-4cf7-9707-e3b04d97e239"
      },
      "cell_type": "code",
      "source": [
        "plt.imshow(images[2].reshape((48,48)))\n"
      ],
      "execution_count": 27,
      "outputs": [
        {
          "output_type": "execute_result",
          "data": {
            "text/plain": [
              "<matplotlib.image.AxesImage at 0x7f05b21b3cf8>"
            ]
          },
          "metadata": {
            "tags": []
          },
          "execution_count": 27
        },
        {
          "output_type": "display_data",
          "data": {
            "image/png": "[encoded data removed]",
            "text/plain": [
              "<matplotlib.figure.Figure at 0x7f05b2347a20>"
            ]
          },
          "metadata": {
            "tags": []
          }
        }
      ]
    },
    {
      "metadata": {
        "id": "Xez6GDAITEBI",
        "colab_type": "code",
        "colab": {}
      },
      "cell_type": "code",
      "source": [
        "images_test=[]\n",
        "\n",
        "for i in range(len(X_test)):\n",
        "    image_string = X_test[i]\n",
        "    image = [int(x) for x in image_string.split()]\n",
        "    image=np.array(image,dtype='float32')\n",
        "    image=image.reshape((48,48,1))\n",
        "    images_test.append(image)"
      ],
      "execution_count": 0,
      "outputs": []
    },
    {
      "metadata": {
        "id": "080VhB7YTHxD",
        "colab_type": "code",
        "colab": {}
      },
      "cell_type": "code",
      "source": [
        "def convert_to_one_hot(Y, C):\n",
        "    Y = np.eye(C)[Y.reshape(-1)]\n",
        "    return Y"
      ],
      "execution_count": 0,
      "outputs": []
    },
    {
      "metadata": {
        "id": "x2wfk74MTJ4T",
        "colab_type": "code",
        "colab": {
          "base_uri": "https://localhost:8080/",
          "height": 70
        },
        "outputId": "632e96d0-b7dc-45a8-b674-741fc0787f09"
      },
      "cell_type": "code",
      "source": [
        "y_train_hot=convert_to_one_hot(y_train,7)"
      ],
      "execution_count": 31,
      "outputs": [
        {
          "output_type": "stream",
          "text": [
            "/usr/local/lib/python3.6/dist-packages/ipykernel_launcher.py:2: FutureWarning: reshape is deprecated and will raise in a subsequent release. Please use .values.reshape(...) instead\n",
            "  \n"
          ],
          "name": "stderr"
        }
      ]
    },
    {
      "metadata": {
        "id": "y6q9Hwu_TMTs",
        "colab_type": "code",
        "colab": {
          "base_uri": "https://localhost:8080/",
          "height": 70
        },
        "outputId": "6979c45e-30e7-45c7-bd3e-b7dc954d1f96"
      },
      "cell_type": "code",
      "source": [
        "y_test_hot=convert_to_one_hot(y_test,7)"
      ],
      "execution_count": 32,
      "outputs": [
        {
          "output_type": "stream",
          "text": [
            "/usr/local/lib/python3.6/dist-packages/ipykernel_launcher.py:2: FutureWarning: reshape is deprecated and will raise in a subsequent release. Please use .values.reshape(...) instead\n",
            "  \n"
          ],
          "name": "stderr"
        }
      ]
    },
    {
      "metadata": {
        "id": "26p-9xFZTOhL",
        "colab_type": "code",
        "colab": {}
      },
      "cell_type": "code",
      "source": [
        "images_train=np.array(images)\n"
      ],
      "execution_count": 0,
      "outputs": []
    },
    {
      "metadata": {
        "id": "h1UZXDeMTV6q",
        "colab_type": "code",
        "colab": {}
      },
      "cell_type": "code",
      "source": [
        "images_test=np.array(images_test)\n"
      ],
      "execution_count": 0,
      "outputs": []
    },
    {
      "metadata": {
        "id": "1mTu6EBTTYsL",
        "colab_type": "code",
        "colab": {
          "base_uri": "https://localhost:8080/",
          "height": 34
        },
        "outputId": "a7b2ba50-952a-4a18-f111-d8eb4e02354f"
      },
      "cell_type": "code",
      "source": [
        "images=np.array(images)\n",
        "images_test=np.array(images_test)\n",
        "images_test.reshape((10767,2304)).shape"
      ],
      "execution_count": 35,
      "outputs": [
        {
          "output_type": "execute_result",
          "data": {
            "text/plain": [
              "(10767, 2304)"
            ]
          },
          "metadata": {
            "tags": []
          },
          "execution_count": 35
        }
      ]
    },
    {
      "metadata": {
        "id": "2SxZO5ZvTbmy",
        "colab_type": "code",
        "colab": {
          "base_uri": "https://localhost:8080/",
          "height": 34
        },
        "outputId": "ea9c0f7e-d068-4ca6-939a-ea5b3cd48d6a"
      },
      "cell_type": "code",
      "source": [
        "images_test.shape"
      ],
      "execution_count": 36,
      "outputs": [
        {
          "output_type": "execute_result",
          "data": {
            "text/plain": [
              "(10767, 48, 48, 1)"
            ]
          },
          "metadata": {
            "tags": []
          },
          "execution_count": 36
        }
      ]
    },
    {
      "metadata": {
        "id": "kULcIKr4yHKO",
        "colab_type": "text"
      },
      "cell_type": "markdown",
      "source": [
        "## Model Architecture"
      ]
    },
    {
      "metadata": {
        "id": "V_4Xv8UfTeSA",
        "colab_type": "code",
        "colab": {}
      },
      "cell_type": "code",
      "source": [
        "model = Sequential()\n",
        "#layer1\n",
        "\n",
        "model.add(Conv2D(64, (3, 3),padding = \"same\", activation='relu', input_shape=(48, 48, 1)))\n",
        "model.add(BatchNormalization())\n",
        "model.add(MaxPooling2D(pool_size=(2, 2)))\n",
        "model.add(Dropout(0.125))\n",
        "\n",
        "#layer2\n",
        "\n",
        "model.add(Conv2D(128, (5, 5), activation='relu',padding = \"same\"))\n",
        "model.add(BatchNormalization())\n",
        "model.add(MaxPooling2D(pool_size=(2, 2)))\n",
        "model.add(Dropout(0.125))\n",
        "\n",
        "#layer3\n",
        "\n",
        "model.add(Conv2D(512, (3, 3), activation='relu',padding = \"same\"))\n",
        "model.add(BatchNormalization())\n",
        "model.add(MaxPooling2D(pool_size=(2, 2)))\n",
        "model.add(Dropout(0.125))\n",
        "\n",
        "#layer4\n",
        "\n",
        "model.add(Conv2D(512, (3, 3), activation='relu',padding = \"same\"))\n",
        "model.add(BatchNormalization())\n",
        "model.add(MaxPooling2D(pool_size=(2, 2)))\n",
        "model.add(Dropout(0.25))\n",
        "\n",
        "#FC1\n",
        "\n",
        "model.add(Flatten())\n",
        "model.add(Dense(256, activation='relu'))\n",
        "model.add(BatchNormalization())\n",
        "model.add(Dropout(0.125))\n",
        "\n",
        "#FC2\n",
        "\n",
        "model.add(Dense(512, activation='relu'))\n",
        "model.add(BatchNormalization())\n",
        "model.add(Dropout(0.5))\n",
        "\n",
        "\n",
        "#FC3\n",
        "\n",
        "model.add(Dense(7, activation='softmax'))\n",
        "\n"
      ],
      "execution_count": 0,
      "outputs": []
    },
    {
      "metadata": {
        "id": "SB-ajjrVYeln",
        "colab_type": "code",
        "colab": {}
      },
      "cell_type": "code",
      "source": [
        "model.compile(loss='categorical_crossentropy', optimizer=\"adam\",metrics = [\"accuracy\"])"
      ],
      "execution_count": 0,
      "outputs": []
    },
    {
      "metadata": {
        "id": "0suR4AF2yQAt",
        "colab_type": "text"
      },
      "cell_type": "markdown",
      "source": [
        "## Summary of Model Architecture"
      ]
    },
    {
      "metadata": {
        "id": "WPVjC3hjZZuy",
        "colab_type": "code",
        "colab": {
          "base_uri": "https://localhost:8080/",
          "height": 739
        },
        "outputId": "10e8da5e-a31c-4ca0-e77e-b0cb844e5c49"
      },
      "cell_type": "code",
      "source": [
        "model.summary()"
      ],
      "execution_count": 49,
      "outputs": [
        {
          "output_type": "stream",
          "text": [
            "_________________________________________________________________\n",
            "Layer (type)                 Output Shape              Param #   \n",
            "=================================================================\n",
            "conv2d_9 (Conv2D)            (None, 48, 48, 64)        640       \n",
            "_________________________________________________________________\n",
            "max_pooling2d_9 (MaxPooling2 (None, 24, 24, 64)        0         \n",
            "_________________________________________________________________\n",
            "dropout_13 (Dropout)         (None, 24, 24, 64)        0         \n",
            "_________________________________________________________________\n",
            "conv2d_10 (Conv2D)           (None, 24, 24, 128)       204928    \n",
            "_________________________________________________________________\n",
            "max_pooling2d_10 (MaxPooling (None, 12, 12, 128)       0         \n",
            "_________________________________________________________________\n",
            "dropout_14 (Dropout)         (None, 12, 12, 128)       0         \n",
            "_________________________________________________________________\n",
            "conv2d_11 (Conv2D)           (None, 12, 12, 512)       590336    \n",
            "_________________________________________________________________\n",
            "max_pooling2d_11 (MaxPooling (None, 6, 6, 512)         0         \n",
            "_________________________________________________________________\n",
            "dropout_15 (Dropout)         (None, 6, 6, 512)         0         \n",
            "_________________________________________________________________\n",
            "conv2d_12 (Conv2D)           (None, 6, 6, 512)         2359808   \n",
            "_________________________________________________________________\n",
            "max_pooling2d_12 (MaxPooling (None, 3, 3, 512)         0         \n",
            "_________________________________________________________________\n",
            "dropout_16 (Dropout)         (None, 3, 3, 512)         0         \n",
            "_________________________________________________________________\n",
            "flatten_3 (Flatten)          (None, 4608)              0         \n",
            "_________________________________________________________________\n",
            "dense_7 (Dense)              (None, 256)               1179904   \n",
            "_________________________________________________________________\n",
            "dropout_17 (Dropout)         (None, 256)               0         \n",
            "_________________________________________________________________\n",
            "dense_8 (Dense)              (None, 512)               131584    \n",
            "_________________________________________________________________\n",
            "dropout_18 (Dropout)         (None, 512)               0         \n",
            "_________________________________________________________________\n",
            "dense_9 (Dense)              (None, 7)                 3591      \n",
            "=================================================================\n",
            "Total params: 4,470,791\n",
            "Trainable params: 4,470,791\n",
            "Non-trainable params: 0\n",
            "_________________________________________________________________\n"
          ],
          "name": "stdout"
        }
      ]
    },
    {
      "metadata": {
        "id": "niStmIT-yjPh",
        "colab_type": "text"
      },
      "cell_type": "markdown",
      "source": [
        "## Training"
      ]
    },
    {
      "metadata": {
        "id": "XaGQ7VaMZcza",
        "colab_type": "code",
        "colab": {
          "base_uri": "https://localhost:8080/",
          "height": 1193
        },
        "outputId": "d6949b14-fd25-4c33-d3b7-bd8f7a76eeee"
      },
      "cell_type": "code",
      "source": [
        "history=model.fit(images_train, y_train_hot, epochs=35, verbose=1, batch_size=128,\n",
        "                                    initial_epoch=0, shuffle=True)\n"
      ],
      "execution_count": 55,
      "outputs": [
        {
          "output_type": "stream",
          "text": [
            "Epoch 1/35\n",
            "25120/25120 [==============================] - 25s 1ms/step - loss: 2.2171 - acc: 0.2577\n",
            "Epoch 2/35\n",
            "25120/25120 [==============================] - 23s 921us/step - loss: 1.6476 - acc: 0.3979\n",
            "Epoch 3/35\n",
            "25120/25120 [==============================] - 23s 925us/step - loss: 1.3689 - acc: 0.4819\n",
            "Epoch 4/35\n",
            "25120/25120 [==============================] - 23s 920us/step - loss: 1.2170 - acc: 0.5399\n",
            "Epoch 5/35\n",
            "25120/25120 [==============================] - 23s 923us/step - loss: 1.1032 - acc: 0.5818\n",
            "Epoch 6/35\n",
            "25120/25120 [==============================] - 23s 925us/step - loss: 1.0289 - acc: 0.6125\n",
            "Epoch 7/35\n",
            "25120/25120 [==============================] - 23s 922us/step - loss: 0.9390 - acc: 0.6482\n",
            "Epoch 8/35\n",
            "25120/25120 [==============================] - 23s 922us/step - loss: 0.8533 - acc: 0.6813\n",
            "Epoch 9/35\n",
            "25120/25120 [==============================] - 23s 922us/step - loss: 0.7692 - acc: 0.7136\n",
            "Epoch 10/35\n",
            "25120/25120 [==============================] - 23s 920us/step - loss: 0.6669 - acc: 0.7561\n",
            "Epoch 11/35\n",
            "25120/25120 [==============================] - 23s 926us/step - loss: 0.5889 - acc: 0.7808\n",
            "Epoch 12/35\n",
            "25120/25120 [==============================] - 23s 924us/step - loss: 0.5109 - acc: 0.8180\n",
            "Epoch 13/35\n",
            "25120/25120 [==============================] - 23s 922us/step - loss: 0.4393 - acc: 0.8412\n",
            "Epoch 14/35\n",
            "25120/25120 [==============================] - 23s 921us/step - loss: 0.3624 - acc: 0.8708\n",
            "Epoch 15/35\n",
            "25120/25120 [==============================] - 23s 921us/step - loss: 0.3415 - acc: 0.8793\n",
            "Epoch 16/35\n",
            "25120/25120 [==============================] - 23s 923us/step - loss: 0.2922 - acc: 0.8965\n",
            "Epoch 17/35\n",
            "25120/25120 [==============================] - 23s 920us/step - loss: 0.2707 - acc: 0.9066\n",
            "Epoch 18/35\n",
            "25120/25120 [==============================] - 23s 922us/step - loss: 0.2206 - acc: 0.9225\n",
            "Epoch 19/35\n",
            "25120/25120 [==============================] - 23s 923us/step - loss: 0.2143 - acc: 0.9252\n",
            "Epoch 20/35\n",
            "25120/25120 [==============================] - 23s 924us/step - loss: 0.1814 - acc: 0.9361\n",
            "Epoch 21/35\n",
            "25120/25120 [==============================] - 23s 925us/step - loss: 0.1777 - acc: 0.9403\n",
            "Epoch 22/35\n",
            "25120/25120 [==============================] - 23s 923us/step - loss: 0.1682 - acc: 0.9420\n",
            "Epoch 23/35\n",
            "25120/25120 [==============================] - 23s 923us/step - loss: 0.1540 - acc: 0.9491\n",
            "Epoch 24/35\n",
            "25120/25120 [==============================] - 23s 923us/step - loss: 0.1305 - acc: 0.9563\n",
            "Epoch 25/35\n",
            "25120/25120 [==============================] - 23s 924us/step - loss: 0.1428 - acc: 0.9512\n",
            "Epoch 26/35\n",
            "25120/25120 [==============================] - 23s 923us/step - loss: 0.1315 - acc: 0.9549\n",
            "Epoch 27/35\n",
            "25120/25120 [==============================] - 23s 924us/step - loss: 0.1286 - acc: 0.9547\n",
            "Epoch 28/35\n",
            "25120/25120 [==============================] - 23s 924us/step - loss: 0.1291 - acc: 0.9556\n",
            "Epoch 29/35\n",
            "25120/25120 [==============================] - 23s 923us/step - loss: 0.1335 - acc: 0.9547\n",
            "Epoch 30/35\n",
            "25120/25120 [==============================] - 23s 920us/step - loss: 0.1455 - acc: 0.9489\n",
            "Epoch 31/35\n",
            "25120/25120 [==============================] - 23s 921us/step - loss: 0.1032 - acc: 0.9654\n",
            "Epoch 32/35\n",
            "25120/25120 [==============================] - 23s 924us/step - loss: 0.0990 - acc: 0.9660\n",
            "Epoch 33/35\n",
            "25120/25120 [==============================] - 23s 922us/step - loss: 0.1061 - acc: 0.9631\n",
            "Epoch 34/35\n",
            "25120/25120 [==============================] - 23s 924us/step - loss: 0.0962 - acc: 0.9676\n",
            "Epoch 35/35\n",
            "25120/25120 [==============================] - 23s 922us/step - loss: 0.0963 - acc: 0.9688\n"
          ],
          "name": "stdout"
        }
      ]
    },
    {
      "metadata": {
        "id": "Qoda8ZP9y5_1",
        "colab_type": "text"
      },
      "cell_type": "markdown",
      "source": [
        "#  Helper Functions"
      ]
    },
    {
      "metadata": {
        "id": "ITLNuXJmzAev",
        "colab_type": "text"
      },
      "cell_type": "markdown",
      "source": [
        "### For Plotting Accuracy"
      ]
    },
    {
      "metadata": {
        "id": "F7wKJotWbveJ",
        "colab_type": "code",
        "colab": {}
      },
      "cell_type": "code",
      "source": [
        "\n",
        "def plot_accuracy(history):\n",
        "  plt.figure(figsize = (15,5))\n",
        "  plt.plot(history.history['acc'])\n",
        "  plt.title('Model accuracy')\n",
        "  plt.ylabel('Accuracy')\n",
        "  plt.xlabel('Epoch')\n",
        "  plt.legend(['Train', 'Test'], loc='upper left')\n",
        "  plt.show()\n",
        "  \n",
        "  # Plot training & validation loss values\n",
        "  plt.figure(figsize=(15,5))\n",
        "  plt.plot(history.history['loss'])\n",
        "  plt.title('Model loss')\n",
        "  plt.ylabel('Loss')\n",
        "  plt.xlabel('Epoch')\n",
        "  plt.legend(['Train', 'Test'], loc='upper left')\n",
        "  plt.show()\n",
        "  "
      ],
      "execution_count": 0,
      "outputs": []
    },
    {
      "metadata": {
        "id": "pob725VM0NCv",
        "colab_type": "text"
      },
      "cell_type": "markdown",
      "source": [
        "### Accuracy and Saving the Model"
      ]
    },
    {
      "metadata": {
        "id": "ZMFnXxcncEIo",
        "colab_type": "code",
        "colab": {}
      },
      "cell_type": "code",
      "source": [
        "def model_accuracy(x_test,y_test):\n",
        "  scores = model.evaluate(images_test, y_test_hot, verbose=2)\n",
        "  print(scores[1]*100,\"%\")"
      ],
      "execution_count": 0,
      "outputs": []
    },
    {
      "metadata": {
        "id": "uTrbltY89Fqr",
        "colab_type": "code",
        "colab": {}
      },
      "cell_type": "code",
      "source": [
        ""
      ],
      "execution_count": 0,
      "outputs": []
    },
    {
      "metadata": {
        "id": "wZ_GZegHpyxe",
        "colab_type": "code",
        "colab": {}
      },
      "cell_type": "code",
      "source": [
        "def save_model(model):\n",
        "  model.save_weights(\"keras1.hdf5\",overwrite=True)"
      ],
      "execution_count": 0,
      "outputs": []
    },
    {
      "metadata": {
        "id": "JaPwIvUbVJne",
        "colab_type": "code",
        "colab": {
          "base_uri": "https://localhost:8080/",
          "height": 34
        },
        "outputId": "b2fa8d44-3050-4feb-913d-8efe0579f205"
      },
      "cell_type": "code",
      "source": [
        "y_predict = model.predict_classes(images_test, verbose=1)"
      ],
      "execution_count": 59,
      "outputs": [
        {
          "output_type": "stream",
          "text": [
            "10767/10767 [==============================] - 5s 440us/step\n"
          ],
          "name": "stdout"
        }
      ]
    },
    {
      "metadata": {
        "id": "ZjDJaQsZkJxZ",
        "colab_type": "code",
        "colab": {}
      },
      "cell_type": "code",
      "source": [
        "y_test =np.array(y_test)"
      ],
      "execution_count": 0,
      "outputs": []
    },
    {
      "metadata": {
        "id": "V3gIWOF2l_EJ",
        "colab_type": "code",
        "colab": {}
      },
      "cell_type": "code",
      "source": [
        "cm = confusion_matrix(y_target=y_test, y_predicted=y_predict)"
      ],
      "execution_count": 0,
      "outputs": []
    },
    {
      "metadata": {
        "id": "SoPkBy8tzSbo",
        "colab_type": "text"
      },
      "cell_type": "markdown",
      "source": [
        "### For Plotting Confusion Matrix"
      ]
    },
    {
      "metadata": {
        "id": "q0EQBEiUqpFF",
        "colab_type": "code",
        "colab": {}
      },
      "cell_type": "code",
      "source": [
        "def plot_cm(cm):\n",
        "  plt.figure(figsize=(10,5))\n",
        "  column = [\"Angry\",\"Disgust\",\"Fear\",\"Happy\",\"Sad\",\"Surprise\",\"Neutral\"]\n",
        "  df_cm = pd.DataFrame(cm, index=column,columns=column)\n",
        "  ax = sns.heatmap(df_cm, cmap='Greens', annot=True,fmt='g')"
      ],
      "execution_count": 0,
      "outputs": []
    },
    {
      "metadata": {
        "id": "jzr7PoMuq_Hp",
        "colab_type": "code",
        "colab": {
          "base_uri": "https://localhost:8080/",
          "height": 320
        },
        "outputId": "2a4bb41e-346d-4f5b-aa33-fcbf456db673"
      },
      "cell_type": "code",
      "source": [
        "plot_cm(cm)"
      ],
      "execution_count": 74,
      "outputs": [
        {
          "output_type": "display_data",
          "data": {
            "image/png": "[encoded data removed]",
            "text/plain": [
              "<matplotlib.figure.Figure at 0x7f05a88f7240>"
            ]
          },
          "metadata": {
            "tags": []
          }
        }
      ]
    },
    {
      "metadata": {
        "id": "HIGoZ4-hs2JY",
        "colab_type": "code",
        "colab": {
          "base_uri": "https://localhost:8080/",
          "height": 681
        },
        "outputId": "99f65d1c-f5b0-4147-e23c-e95500cd39a1"
      },
      "cell_type": "code",
      "source": [
        "plot_accuracy(history)"
      ],
      "execution_count": 75,
      "outputs": [
        {
          "output_type": "display_data",
          "data": {
            "image/png": "[encoded data removed]",
            "text/plain": [
              "<matplotlib.figure.Figure at 0x7f05a6a36358>"
            ]
          },
          "metadata": {
            "tags": []
          }
        },
        {
          "output_type": "display_data",
          "data": {
            "image/png": "[encoded data removed]",
            "text/plain": [
              "<matplotlib.figure.Figure at 0x7f05a695c2e8>"
            ]
          },
          "metadata": {
            "tags": []
          }
        }
      ]
    },
    {
      "metadata": {
        "id": "AEEkK97hzxzl",
        "colab_type": "code",
        "colab": {
          "base_uri": "https://localhost:8080/",
          "height": 34
        },
        "outputId": "22bfca76-b40d-476e-f211-977c98663a31"
      },
      "cell_type": "code",
      "source": [
        "model_accuracy(images_test,y_test_hot)"
      ],
      "execution_count": 76,
      "outputs": [
        {
          "output_type": "stream",
          "text": [
            "58.9486393648856 %\n"
          ],
          "name": "stdout"
        }
      ]
    },
    {
      "metadata": {
        "id": "wJfNMUCQz5ZU",
        "colab_type": "code",
        "colab": {}
      },
      "cell_type": "code",
      "source": [
        ""
      ],
      "execution_count": 0,
      "outputs": []
    }
  ]
}